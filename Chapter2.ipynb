{
 "cells": [
  {
   "cell_type": "markdown",
   "metadata": {},
   "source": [
    "# パッケージ"
   ]
  },
  {
   "cell_type": "code",
   "execution_count": 1,
   "metadata": {},
   "outputs": [],
   "source": [
    "import numpy as np\n",
    "import pandas as pd"
   ]
  },
  {
   "cell_type": "code",
   "execution_count": null,
   "metadata": {},
   "outputs": [],
   "source": []
  },
  {
   "cell_type": "markdown",
   "metadata": {},
   "source": [
    "# 事前準備  \n",
    "時系列株価データの取得"
   ]
  },
  {
   "cell_type": "code",
   "execution_count": 2,
   "metadata": {},
   "outputs": [],
   "source": [
    "from datetime import date, timedelta\n",
    "from pandas_datareader import data as pdr"
   ]
  },
  {
   "cell_type": "code",
   "execution_count": 3,
   "metadata": {},
   "outputs": [],
   "source": [
    "# 期間設定\n",
    "today = date.today()\n",
    "startday = today - timedelta(days=20)\n",
    "# 銘柄設定\n",
    "ticker_list = [\"IBM\", \"AAPL\", \"MSFT\", \"C\", \"T\"]"
   ]
  },
  {
   "cell_type": "code",
   "execution_count": 4,
   "metadata": {},
   "outputs": [],
   "source": [
    "# 取得\n",
    "pd_data = pdr.DataReader(ticker_list, \"stooq\", startday)"
   ]
  },
  {
   "cell_type": "code",
   "execution_count": 5,
   "metadata": {},
   "outputs": [],
   "source": [
    "# リターン\n",
    "ret = pd_data['Close'].sort_index(ascending=True)\n",
    "ret=ret.pct_change().drop(ret.index[0])"
   ]
  },
  {
   "cell_type": "code",
   "execution_count": 6,
   "metadata": {},
   "outputs": [],
   "source": [
    "# 共分散行列\n",
    "cvm = ret.cov()"
   ]
  },
  {
   "cell_type": "code",
   "execution_count": 7,
   "metadata": {},
   "outputs": [],
   "source": [
    "# 株価\n",
    "prc = pd_data['Close']['IBM'].sort_index(ascending=True)"
   ]
  },
  {
   "cell_type": "code",
   "execution_count": 9,
   "metadata": {},
   "outputs": [
    {
     "data": {
      "text/plain": [
       "14"
      ]
     },
     "execution_count": 9,
     "metadata": {},
     "output_type": "execute_result"
    }
   ],
   "source": [
    "prc.shape[0]"
   ]
  },
  {
   "cell_type": "code",
   "execution_count": 10,
   "metadata": {},
   "outputs": [
    {
     "data": {
      "text/plain": [
       "array([ 1,  2,  3,  4,  5,  6,  7,  8,  9, 10, 11, 12, 13, 14],\n",
       "      dtype=int64)"
      ]
     },
     "execution_count": 10,
     "metadata": {},
     "output_type": "execute_result"
    }
   ],
   "source": [
    "prc.index.searchsorted(prc.index + pd.Timedelta(days=1))"
   ]
  },
  {
   "cell_type": "code",
   "execution_count": null,
   "metadata": {},
   "outputs": [],
   "source": []
  },
  {
   "cell_type": "code",
   "execution_count": null,
   "metadata": {},
   "outputs": [],
   "source": []
  },
  {
   "cell_type": "markdown",
   "metadata": {},
   "source": [
    "## 3.1 日次ボラティリティ推定"
   ]
  },
  {
   "cell_type": "code",
   "execution_count": 8,
   "metadata": {},
   "outputs": [],
   "source": [
    "close=prc"
   ]
  },
  {
   "cell_type": "code",
   "execution_count": 9,
   "metadata": {},
   "outputs": [
    {
     "data": {
      "text/plain": [
       "Date\n",
       "2023-04-26         NaN\n",
       "2023-04-27    0.003529\n",
       "2023-04-28    0.002663\n",
       "2023-05-01    0.004616\n",
       "2023-05-02    0.007250\n",
       "2023-05-03    0.011076\n",
       "2023-05-04    0.012151\n",
       "2023-05-05    0.011511\n",
       "2023-05-08    0.010755\n",
       "2023-05-09    0.011319\n",
       "2023-05-10    0.010800\n",
       "2023-05-11    0.010332\n",
       "2023-05-12    0.010547\n",
       "Name: IBM, dtype: float64"
      ]
     },
     "execution_count": 9,
     "metadata": {},
     "output_type": "execute_result"
    }
   ],
   "source": [
    "# 2営業日前の日付を取得\n",
    "df0 = close.index.searchsorted(close.index - pd.Timedelta(days=1))\n",
    "df0 = df0[df0>0]\n",
    "df0 = pd.Series(close.index[df0-1], index=close.index[close.shape[0]-df0.shape[0]:])\n",
    "\n",
    "# 2営業日前からのリターン系列\n",
    "df0 = close.loc[df0.index] / close.loc[df0.values].values-1\n",
    "\n",
    "# 指数平滑加重標準偏差\n",
    "df0.ewm(span=100).std()"
   ]
  },
  {
   "cell_type": "code",
   "execution_count": 10,
   "metadata": {},
   "outputs": [
    {
     "data": {
      "text/plain": [
       "Date\n",
       "2023-04-26    0.003589\n",
       "2023-04-27    0.008579\n",
       "2023-04-28    0.004450\n",
       "2023-05-01   -0.002531\n",
       "2023-05-02   -0.009888\n",
       "2023-05-03   -0.020937\n",
       "2023-05-04   -0.020694\n",
       "2023-05-05    0.001620\n",
       "2023-05-08   -0.002022\n",
       "2023-05-09   -0.020057\n",
       "2023-05-10   -0.011183\n",
       "2023-05-11   -0.002228\n",
       "2023-05-12    0.006720\n",
       "Name: IBM, dtype: float64"
      ]
     },
     "execution_count": 10,
     "metadata": {},
     "output_type": "execute_result"
    }
   ],
   "source": [
    "df0"
   ]
  },
  {
   "cell_type": "code",
   "execution_count": null,
   "metadata": {},
   "outputs": [],
   "source": []
  },
  {
   "cell_type": "code",
   "execution_count": null,
   "metadata": {},
   "outputs": [],
   "source": []
  },
  {
   "cell_type": "code",
   "execution_count": null,
   "metadata": {},
   "outputs": [],
   "source": []
  },
  {
   "cell_type": "code",
   "execution_count": null,
   "metadata": {},
   "outputs": [],
   "source": []
  },
  {
   "cell_type": "markdown",
   "metadata": {},
   "source": [
    "## 2.1 リスク分布RのPCAウェイト  \n",
    "各主成分のリスク寄与が指定した配分となるような資産ウェイトを算出"
   ]
  },
  {
   "cell_type": "code",
   "execution_count": 36,
   "metadata": {},
   "outputs": [],
   "source": [
    "# パラメータ設定（共分散行列、リスク水準）\n",
    "cov = cvm\n",
    "riskTarget = 1"
   ]
  },
  {
   "cell_type": "code",
   "execution_count": 22,
   "metadata": {},
   "outputs": [],
   "source": [
    "# 固有値、固有ベクトル（入力はエルミート行列である必要がある⇒下三角行列で固有値を算出するため）\n",
    "eVal, eVec = np.linalg.eigh(cov)"
   ]
  },
  {
   "cell_type": "code",
   "execution_count": 23,
   "metadata": {},
   "outputs": [],
   "source": [
    "# 降順ソートのインデックス順列\n",
    "indices = eVal.argsort()[::-1]"
   ]
  },
  {
   "cell_type": "code",
   "execution_count": 24,
   "metadata": {},
   "outputs": [],
   "source": [
    "# 固有値降順で並び替え\n",
    "eVal, eVec = eVal[indices], eVec[:, indices]"
   ]
  },
  {
   "cell_type": "code",
   "execution_count": 29,
   "metadata": {},
   "outputs": [],
   "source": [
    "# デフォルトのリスク分布を設定（固有値最低の主成分に全て配分）\n",
    "riskDist = np.zeros(cov.shape[0])\n",
    "riskDist[-1] = 1"
   ]
  },
  {
   "cell_type": "code",
   "execution_count": 37,
   "metadata": {},
   "outputs": [],
   "source": [
    "# 設定したリスク分布となる資産ウェイトの算出\n",
    "loads = riskTarget*riskDist/eVal**.5\n",
    "wghts = np.dot(eVec, np.reshape(loads, (-1, 1)))"
   ]
  },
  {
   "cell_type": "code",
   "execution_count": null,
   "metadata": {},
   "outputs": [],
   "source": []
  },
  {
   "cell_type": "code",
   "execution_count": null,
   "metadata": {},
   "outputs": [],
   "source": []
  },
  {
   "cell_type": "code",
   "execution_count": 9,
   "metadata": {},
   "outputs": [],
   "source": [
    "prc = pd_data[\"Close\"][\"IBM\"].sort_index(ascending=True)"
   ]
  },
  {
   "cell_type": "code",
   "execution_count": 12,
   "metadata": {},
   "outputs": [],
   "source": [
    "diff = prc.diff()"
   ]
  },
  {
   "cell_type": "code",
   "execution_count": null,
   "metadata": {},
   "outputs": [],
   "source": []
  },
  {
   "cell_type": "code",
   "execution_count": null,
   "metadata": {},
   "outputs": [],
   "source": []
  },
  {
   "cell_type": "code",
   "execution_count": null,
   "metadata": {},
   "outputs": [],
   "source": []
  },
  {
   "cell_type": "code",
   "execution_count": null,
   "metadata": {},
   "outputs": [],
   "source": []
  }
 ],
 "metadata": {
  "kernelspec": {
   "display_name": "Python 3",
   "language": "python",
   "name": "python3"
  },
  "language_info": {
   "codemirror_mode": {
    "name": "ipython",
    "version": 3
   },
   "file_extension": ".py",
   "mimetype": "text/x-python",
   "name": "python",
   "nbconvert_exporter": "python",
   "pygments_lexer": "ipython3",
   "version": "3.7.6"
  }
 },
 "nbformat": 4,
 "nbformat_minor": 4
}
