{
 "cells": [
  {
   "cell_type": "markdown",
   "metadata": {},
   "source": [
    "# パッケージ"
   ]
  },
  {
   "cell_type": "code",
   "execution_count": 1,
   "metadata": {},
   "outputs": [],
   "source": [
    "import itertools"
   ]
  },
  {
   "cell_type": "code",
   "execution_count": 1,
   "metadata": {},
   "outputs": [],
   "source": [
    "import numpy as np\n",
    "import pandas as pd"
   ]
  },
  {
   "cell_type": "code",
   "execution_count": 2,
   "metadata": {},
   "outputs": [],
   "source": [
    "import random\n",
    "import matplotlib.pyplot as mpl\n",
    "import scipy.cluster.hierarchy as sch"
   ]
  },
  {
   "cell_type": "code",
   "execution_count": 6,
   "metadata": {},
   "outputs": [
    {
     "ename": "ModuleNotFoundError",
     "evalue": "No module named 'CLA'",
     "output_type": "error",
     "traceback": [
      "\u001b[1;31m---------------------------------------------------------------------------\u001b[0m",
      "\u001b[1;31mModuleNotFoundError\u001b[0m                       Traceback (most recent call last)",
      "\u001b[1;32m<ipython-input-6-7abe1c80e402>\u001b[0m in \u001b[0;36m<module>\u001b[1;34m\u001b[0m\n\u001b[1;32m----> 1\u001b[1;33m \u001b[1;32mimport\u001b[0m \u001b[0mCLA\u001b[0m\u001b[1;33m\u001b[0m\u001b[1;33m\u001b[0m\u001b[0m\n\u001b[0m",
      "\u001b[1;31mModuleNotFoundError\u001b[0m: No module named 'CLA'"
     ]
    }
   ],
   "source": [
    "import CLA"
   ]
  },
  {
   "cell_type": "code",
   "execution_count": null,
   "metadata": {},
   "outputs": [],
   "source": []
  },
  {
   "cell_type": "code",
   "execution_count": 3,
   "metadata": {},
   "outputs": [
    {
     "ename": "TypeError",
     "evalue": "'float' object is not iterable",
     "output_type": "error",
     "traceback": [
      "\u001b[1;31m---------------------------------------------------------------------------\u001b[0m",
      "\u001b[1;31mTypeError\u001b[0m                                 Traceback (most recent call last)",
      "\u001b[1;32m<ipython-input-3-ee4a22d7a1ea>\u001b[0m in \u001b[0;36m<module>\u001b[1;34m\u001b[0m\n\u001b[1;32m----> 1\u001b[1;33m \u001b[1;33m[\u001b[0m\u001b[0mlag\u001b[0m \u001b[1;32mfor\u001b[0m \u001b[0mlag\u001b[0m \u001b[1;32min\u001b[0m \u001b[1;36m5.5\u001b[0m\u001b[1;33m]\u001b[0m\u001b[1;33m\u001b[0m\u001b[1;33m\u001b[0m\u001b[0m\n\u001b[0m",
      "\u001b[1;31mTypeError\u001b[0m: 'float' object is not iterable"
     ]
    }
   ],
   "source": [
    "[lag for lag in 5.5]"
   ]
  },
  {
   "cell_type": "code",
   "execution_count": null,
   "metadata": {},
   "outputs": [],
   "source": []
  },
  {
   "cell_type": "code",
   "execution_count": null,
   "metadata": {},
   "outputs": [],
   "source": []
  },
  {
   "cell_type": "code",
   "execution_count": 5,
   "metadata": {},
   "outputs": [
    {
     "data": {
      "text/plain": [
       "array([[0],\n",
       "       [1],\n",
       "       [2],\n",
       "       [3],\n",
       "       [4]])"
      ]
     },
     "execution_count": 5,
     "metadata": {},
     "output_type": "execute_result"
    }
   ],
   "source": [
    "np.arange(5).reshape(-1, 1)"
   ]
  },
  {
   "cell_type": "code",
   "execution_count": null,
   "metadata": {},
   "outputs": [],
   "source": []
  },
  {
   "cell_type": "code",
   "execution_count": 6,
   "metadata": {},
   "outputs": [],
   "source": [
    "# 乱数列とそれと相関のある乱数列をデータフレームにまとめて出力\n",
    "def generateData(nObs, size0, size1, sigma1):\n",
    "    # 乱数シードの設定\n",
    "    np.random.seed(seed=12345); random.seed(12345)\n",
    "    # 正規乱数\n",
    "    x=np.random.normal(0, 1, size=(nObs, size0))\n",
    "    # 指定範囲の整数をランダムに生成\n",
    "    cols = [random.randint(0, size0-1) for i in range(size1)]\n",
    "    # xからランダムに列を選択し、正規乱数を加算\n",
    "    y=x[:, cols] + np.random.normal(0, sigma1, size=(nObs, len(cols)))\n",
    "    # xとyの全列をまとめる\n",
    "    x=np.append(x, y, axis=1)\n",
    "    # データフレームに変換\n",
    "    x=pd.DataFrame(x, columns=range(1, x.shape[1]+1))\n",
    "    return x, cols"
   ]
  },
  {
   "cell_type": "code",
   "execution_count": 4,
   "metadata": {},
   "outputs": [],
   "source": [
    "# 相関行列をヒートマップで表示\n",
    "# def plotCorrMatrix(path, corr, labels=None):\n",
    "def plotCorrMatrix(corr, labels=None):\n",
    "    if labels is None: labels=[]\n",
    "    mpl.pcolor(corr)\n",
    "    mpl.colorbar()\n",
    "    mpl.yticks(np.arange(.5, corr.shape[0]+.5), labels)\n",
    "    mpl.xticks(np.arange(.5, corr.shape[0]+.5), labels)\n",
    "    # mpl.savefig(path)\n",
    "    # mpl.clf(); mpl.close()\n",
    "    mpl.show()\n",
    "    return"
   ]
  },
  {
   "cell_type": "code",
   "execution_count": 13,
   "metadata": {},
   "outputs": [],
   "source": [
    "# 相関行列を距離行列に変換\n",
    "def correlDist(corr):\n",
    "    dist=((1-corr)/2.)**.5\n",
    "    return dist"
   ]
  },
  {
   "cell_type": "code",
   "execution_count": 5,
   "metadata": {},
   "outputs": [],
   "source": [
    "# 要素をクラスター順に並べる\n",
    "def getQuasiDiag(link):\n",
    "    # Sort clustered items by distance\n",
    "    link = link.astype(int)\n",
    "    sortIx = pd.Series([link[-1, 0], link[-1, 1]])\n",
    "    numItems = link[-1, 3]  # number of original items\n",
    "    while sortIx.max() >= numItems:\n",
    "        sortIx.index = range(0, sortIx.shape[0] * 2, 2)  # make space\n",
    "        df0 = sortIx[sortIx >= numItems]  # find clusters\n",
    "        i = df0.index\n",
    "        j = df0.values - numItems\n",
    "        sortIx[i] = link[j, 0]  # item 1\n",
    "        df0 = pd.Series(link[j, 1], index=i + 1)\n",
    "        sortIx = sortIx.append(df0)  # item 2\n",
    "        sortIx = sortIx.sort_index()  # re-sort\n",
    "        sortIx.index = range(sortIx.shape[0])  # re-index\n",
    "    return sortIx.tolist()"
   ]
  },
  {
   "cell_type": "code",
   "execution_count": 54,
   "metadata": {},
   "outputs": [],
   "source": [
    "def getRecBipart(cov, sortIx):\n",
    "    w=pd.Series(1, index=sortIx)\n",
    "    cItems=[sortIx]\n",
    "    while len(cItems)>0:\n",
    "        # 要素番号列を2分割\n",
    "        # cItems=[i[j:k] for i in cItems for j,k in ((0, len(i)/2), (len(i)/2, len(i))) if len(i)>1]\n",
    "        cItems=[i[j:k] for i in cItems for j,k in ((0, int(len(i)/2)), (int(len(i)/2), len(i))) if len(i)>1]\n",
    "        for i in range(0, len(cItems), 2):\n",
    "            # 前半要素\n",
    "            cItems0=cItems[i]\n",
    "            # 後半要素\n",
    "            cItems1=cItems[i+1]\n",
    "            # 分散の逆数をウェイトとしたポート（最適ウェイト）の分散\n",
    "            cVar0=getClusterVar(cov, cItems0)\n",
    "            cVar1=getClusterVar(cov, cItems1)\n",
    "            # 分割係数\n",
    "            alpha=1-cVar0/(cVar0+cVar1)\n",
    "            # 両者の分散の逆数をウェイトにする\n",
    "            w[cItems0]*=alpha\n",
    "            w[cItems1]*=1-alpha\n",
    "    return w"
   ]
  },
  {
   "cell_type": "code",
   "execution_count": 55,
   "metadata": {},
   "outputs": [],
   "source": [
    "# 指定した分散ベクトルの逆数ウェイトポートの分散を返す\n",
    "def getClusterVar(cov, cItems):\n",
    "    # 指定列の分散ベクトルを取得\n",
    "    cov_=cov.loc[cItems, cItems] \n",
    "    # 分散ベクトルの逆数を100分比にして返す\n",
    "    w_=getIVP(cov_).reshape(-1, 1)\n",
    "    # 当該ウェイトの分散を算出\n",
    "    cVar=np.dot(np.dot(w_.T, cov_), w_)[0,0]\n",
    "    return cVar"
   ]
  },
  {
   "cell_type": "code",
   "execution_count": 56,
   "metadata": {},
   "outputs": [],
   "source": [
    "# 分散ベクトルの逆数を100分比にして返す\n",
    "def getIVP(cov, **karggs):\n",
    "    # 各要素の分散の逆数\n",
    "    ivp=1./np.diag(cov)\n",
    "    # 100分比に変換\n",
    "    ivp/=ivp.sum()\n",
    "    return ivp"
   ]
  },
  {
   "cell_type": "code",
   "execution_count": null,
   "metadata": {},
   "outputs": [],
   "source": []
  },
  {
   "cell_type": "code",
   "execution_count": 52,
   "metadata": {},
   "outputs": [],
   "source": [
    "cItems=[i[j:k] for i in cItems for j,k in ((0, int(len(i)/2)), (int(len(i)/2), len(i))) if len(i)>1]"
   ]
  },
  {
   "cell_type": "code",
   "execution_count": 53,
   "metadata": {},
   "outputs": [
    {
     "data": {
      "text/plain": [
       "[]"
      ]
     },
     "execution_count": 53,
     "metadata": {},
     "output_type": "execute_result"
    }
   ],
   "source": [
    "cItems"
   ]
  },
  {
   "cell_type": "code",
   "execution_count": 61,
   "metadata": {},
   "outputs": [
    {
     "data": {
      "text/plain": [
       "0"
      ]
     },
     "execution_count": 61,
     "metadata": {},
     "output_type": "execute_result"
    }
   ],
   "source": [
    "int(len(cItems)/2)"
   ]
  },
  {
   "cell_type": "code",
   "execution_count": 49,
   "metadata": {},
   "outputs": [
    {
     "data": {
      "text/plain": [
       "8"
      ]
     },
     "execution_count": 49,
     "metadata": {},
     "output_type": "execute_result"
    }
   ],
   "source": [
    "len(cItems)"
   ]
  },
  {
   "cell_type": "code",
   "execution_count": null,
   "metadata": {},
   "outputs": [],
   "source": []
  },
  {
   "cell_type": "code",
   "execution_count": null,
   "metadata": {},
   "outputs": [],
   "source": []
  },
  {
   "cell_type": "code",
   "execution_count": null,
   "metadata": {},
   "outputs": [],
   "source": []
  },
  {
   "cell_type": "code",
   "execution_count": null,
   "metadata": {},
   "outputs": [],
   "source": []
  },
  {
   "cell_type": "code",
   "execution_count": null,
   "metadata": {},
   "outputs": [],
   "source": []
  },
  {
   "cell_type": "code",
   "execution_count": 34,
   "metadata": {},
   "outputs": [],
   "source": [
    "cVar0=getClusterVar(cov, cItems0)"
   ]
  },
  {
   "cell_type": "code",
   "execution_count": 35,
   "metadata": {},
   "outputs": [],
   "source": [
    "cVar1=getClusterVar(cov, cItems1)"
   ]
  },
  {
   "cell_type": "code",
   "execution_count": 36,
   "metadata": {},
   "outputs": [
    {
     "data": {
      "text/plain": [
       "0.5336815067496543"
      ]
     },
     "execution_count": 36,
     "metadata": {},
     "output_type": "execute_result"
    }
   ],
   "source": [
    "cVar0"
   ]
  },
  {
   "cell_type": "code",
   "execution_count": 37,
   "metadata": {},
   "outputs": [
    {
     "data": {
      "text/plain": [
       "0.3610353310653238"
      ]
     },
     "execution_count": 37,
     "metadata": {},
     "output_type": "execute_result"
    }
   ],
   "source": [
    "cVar1"
   ]
  },
  {
   "cell_type": "code",
   "execution_count": 39,
   "metadata": {},
   "outputs": [],
   "source": [
    "alpha=1-cVar0/(cVar0+cVar1)"
   ]
  },
  {
   "cell_type": "code",
   "execution_count": 40,
   "metadata": {},
   "outputs": [
    {
     "data": {
      "text/plain": [
       "0.4035190976700761"
      ]
     },
     "execution_count": 40,
     "metadata": {},
     "output_type": "execute_result"
    }
   ],
   "source": [
    "alpha"
   ]
  },
  {
   "cell_type": "code",
   "execution_count": 41,
   "metadata": {},
   "outputs": [],
   "source": [
    "w[cItems0]*=alpha"
   ]
  },
  {
   "cell_type": "code",
   "execution_count": 42,
   "metadata": {},
   "outputs": [],
   "source": [
    "w[cItems1]*=1-alpha"
   ]
  },
  {
   "cell_type": "code",
   "execution_count": 43,
   "metadata": {},
   "outputs": [
    {
     "data": {
      "text/plain": [
       "8     0.403519\n",
       "3     0.403519\n",
       "9     0.403519\n",
       "2     0.403519\n",
       "10    0.403519\n",
       "1     0.596481\n",
       "7     0.596481\n",
       "5     0.596481\n",
       "4     0.596481\n",
       "6     0.596481\n",
       "dtype: float64"
      ]
     },
     "execution_count": 43,
     "metadata": {},
     "output_type": "execute_result"
    }
   ],
   "source": [
    "w"
   ]
  },
  {
   "cell_type": "code",
   "execution_count": null,
   "metadata": {},
   "outputs": [],
   "source": []
  },
  {
   "cell_type": "code",
   "execution_count": null,
   "metadata": {},
   "outputs": [],
   "source": []
  },
  {
   "cell_type": "code",
   "execution_count": null,
   "metadata": {},
   "outputs": [],
   "source": []
  },
  {
   "cell_type": "code",
   "execution_count": 8,
   "metadata": {},
   "outputs": [],
   "source": [
    "# パラメータ設定\n",
    "nObs, size0, size1, sigma1=10000, 5, 5, .25"
   ]
  },
  {
   "cell_type": "code",
   "execution_count": 9,
   "metadata": {},
   "outputs": [],
   "source": [
    "# データ生成\n",
    "x, col=generateData(nObs, size0, size1, sigma1)"
   ]
  },
  {
   "cell_type": "code",
   "execution_count": 10,
   "metadata": {},
   "outputs": [],
   "source": [
    "# 分散共分散行列、相関行列\n",
    "cov, corr = x.cov(), x.corr()"
   ]
  },
  {
   "cell_type": "code",
   "execution_count": 18,
   "metadata": {},
   "outputs": [
    {
     "data": {
      "text/plain": [
       "[3, 0, 2, 2, 1]"
      ]
     },
     "execution_count": 18,
     "metadata": {},
     "output_type": "execute_result"
    }
   ],
   "source": [
    "# 相関を持つ列\n",
    "col"
   ]
  },
  {
   "cell_type": "code",
   "execution_count": 11,
   "metadata": {},
   "outputs": [
    {
     "data": {
      "image/png": "[encoded data removed]",
      "text/plain": [
       "<Figure size 432x288 with 2 Axes>"
      ]
     },
     "metadata": {
      "needs_background": "light"
     },
     "output_type": "display_data"
    }
   ],
   "source": [
    "plotCorrMatrix(corr, labels=corr.columns)"
   ]
  },
  {
   "cell_type": "code",
   "execution_count": 14,
   "metadata": {},
   "outputs": [],
   "source": [
    "# 距離行列に変換\n",
    "# 1に近いと離れている\n",
    "dist = correlDist(corr)"
   ]
  },
  {
   "cell_type": "code",
   "execution_count": 15,
   "metadata": {},
   "outputs": [
    {
     "data": {
      "text/html": [
       "<div>\n",
       "<style scoped>\n",
       "    .dataframe tbody tr th:only-of-type {\n",
       "        vertical-align: middle;\n",
       "    }\n",
       "\n",
       "    .dataframe tbody tr th {\n",
       "        vertical-align: top;\n",
       "    }\n",
       "\n",
       "    .dataframe thead th {\n",
       "        text-align: right;\n",
       "    }\n",
       "</style>\n",
       "<table border=\"1\" class=\"dataframe\">\n",
       "  <thead>\n",
       "    <tr style=\"text-align: right;\">\n",
       "      <th></th>\n",
       "      <th>1</th>\n",
       "      <th>2</th>\n",
       "      <th>3</th>\n",
       "      <th>4</th>\n",
       "      <th>5</th>\n",
       "      <th>6</th>\n",
       "      <th>7</th>\n",
       "      <th>8</th>\n",
       "      <th>9</th>\n",
       "      <th>10</th>\n",
       "    </tr>\n",
       "  </thead>\n",
       "  <tbody>\n",
       "    <tr>\n",
       "      <th>1</th>\n",
       "      <td>0.000000</td>\n",
       "      <td>0.708179</td>\n",
       "      <td>0.703553</td>\n",
       "      <td>0.710877</td>\n",
       "      <td>0.708879</td>\n",
       "      <td>0.711192</td>\n",
       "      <td>0.122348</td>\n",
       "      <td>0.702406</td>\n",
       "      <td>0.703058</td>\n",
       "      <td>0.710287</td>\n",
       "    </tr>\n",
       "    <tr>\n",
       "      <th>2</th>\n",
       "      <td>0.708179</td>\n",
       "      <td>0.000000</td>\n",
       "      <td>0.704070</td>\n",
       "      <td>0.704536</td>\n",
       "      <td>0.710430</td>\n",
       "      <td>0.703109</td>\n",
       "      <td>0.710323</td>\n",
       "      <td>0.706165</td>\n",
       "      <td>0.703662</td>\n",
       "      <td>0.119689</td>\n",
       "    </tr>\n",
       "    <tr>\n",
       "      <th>3</th>\n",
       "      <td>0.703553</td>\n",
       "      <td>0.704070</td>\n",
       "      <td>0.000000</td>\n",
       "      <td>0.707331</td>\n",
       "      <td>0.706478</td>\n",
       "      <td>0.707040</td>\n",
       "      <td>0.704910</td>\n",
       "      <td>0.123085</td>\n",
       "      <td>0.122392</td>\n",
       "      <td>0.704380</td>\n",
       "    </tr>\n",
       "    <tr>\n",
       "      <th>4</th>\n",
       "      <td>0.710877</td>\n",
       "      <td>0.704536</td>\n",
       "      <td>0.707331</td>\n",
       "      <td>0.000000</td>\n",
       "      <td>0.705085</td>\n",
       "      <td>0.120759</td>\n",
       "      <td>0.711165</td>\n",
       "      <td>0.709126</td>\n",
       "      <td>0.705544</td>\n",
       "      <td>0.703843</td>\n",
       "    </tr>\n",
       "    <tr>\n",
       "      <th>5</th>\n",
       "      <td>0.708879</td>\n",
       "      <td>0.710430</td>\n",
       "      <td>0.706478</td>\n",
       "      <td>0.705085</td>\n",
       "      <td>0.000000</td>\n",
       "      <td>0.703844</td>\n",
       "      <td>0.710404</td>\n",
       "      <td>0.705563</td>\n",
       "      <td>0.705371</td>\n",
       "      <td>0.709798</td>\n",
       "    </tr>\n",
       "    <tr>\n",
       "      <th>6</th>\n",
       "      <td>0.711192</td>\n",
       "      <td>0.703109</td>\n",
       "      <td>0.707040</td>\n",
       "      <td>0.120759</td>\n",
       "      <td>0.703844</td>\n",
       "      <td>0.000000</td>\n",
       "      <td>0.711690</td>\n",
       "      <td>0.708778</td>\n",
       "      <td>0.705361</td>\n",
       "      <td>0.702755</td>\n",
       "    </tr>\n",
       "    <tr>\n",
       "      <th>7</th>\n",
       "      <td>0.122348</td>\n",
       "      <td>0.710323</td>\n",
       "      <td>0.704910</td>\n",
       "      <td>0.711165</td>\n",
       "      <td>0.710404</td>\n",
       "      <td>0.711690</td>\n",
       "      <td>0.000000</td>\n",
       "      <td>0.704011</td>\n",
       "      <td>0.704545</td>\n",
       "      <td>0.712461</td>\n",
       "    </tr>\n",
       "    <tr>\n",
       "      <th>8</th>\n",
       "      <td>0.702406</td>\n",
       "      <td>0.706165</td>\n",
       "      <td>0.123085</td>\n",
       "      <td>0.709126</td>\n",
       "      <td>0.705563</td>\n",
       "      <td>0.708778</td>\n",
       "      <td>0.704011</td>\n",
       "      <td>0.000000</td>\n",
       "      <td>0.172087</td>\n",
       "      <td>0.706380</td>\n",
       "    </tr>\n",
       "    <tr>\n",
       "      <th>9</th>\n",
       "      <td>0.703058</td>\n",
       "      <td>0.703662</td>\n",
       "      <td>0.122392</td>\n",
       "      <td>0.705544</td>\n",
       "      <td>0.705371</td>\n",
       "      <td>0.705361</td>\n",
       "      <td>0.704545</td>\n",
       "      <td>0.172087</td>\n",
       "      <td>0.000000</td>\n",
       "      <td>0.703851</td>\n",
       "    </tr>\n",
       "    <tr>\n",
       "      <th>10</th>\n",
       "      <td>0.710287</td>\n",
       "      <td>0.119689</td>\n",
       "      <td>0.704380</td>\n",
       "      <td>0.703843</td>\n",
       "      <td>0.709798</td>\n",
       "      <td>0.702755</td>\n",
       "      <td>0.712461</td>\n",
       "      <td>0.706380</td>\n",
       "      <td>0.703851</td>\n",
       "      <td>0.000000</td>\n",
       "    </tr>\n",
       "  </tbody>\n",
       "</table>\n",
       "</div>"
      ],
      "text/plain": [
       "          1         2         3         4         5         6         7   \\\n",
       "1   0.000000  0.708179  0.703553  0.710877  0.708879  0.711192  0.122348   \n",
       "2   0.708179  0.000000  0.704070  0.704536  0.710430  0.703109  0.710323   \n",
       "3   0.703553  0.704070  0.000000  0.707331  0.706478  0.707040  0.704910   \n",
       "4   0.710877  0.704536  0.707331  0.000000  0.705085  0.120759  0.711165   \n",
       "5   0.708879  0.710430  0.706478  0.705085  0.000000  0.703844  0.710404   \n",
       "6   0.711192  0.703109  0.707040  0.120759  0.703844  0.000000  0.711690   \n",
       "7   0.122348  0.710323  0.704910  0.711165  0.710404  0.711690  0.000000   \n",
       "8   0.702406  0.706165  0.123085  0.709126  0.705563  0.708778  0.704011   \n",
       "9   0.703058  0.703662  0.122392  0.705544  0.705371  0.705361  0.704545   \n",
       "10  0.710287  0.119689  0.704380  0.703843  0.709798  0.702755  0.712461   \n",
       "\n",
       "          8         9         10  \n",
       "1   0.702406  0.703058  0.710287  \n",
       "2   0.706165  0.703662  0.119689  \n",
       "3   0.123085  0.122392  0.704380  \n",
       "4   0.709126  0.705544  0.703843  \n",
       "5   0.705563  0.705371  0.709798  \n",
       "6   0.708778  0.705361  0.702755  \n",
       "7   0.704011  0.704545  0.712461  \n",
       "8   0.000000  0.172087  0.706380  \n",
       "9   0.172087  0.000000  0.703851  \n",
       "10  0.706380  0.703851  0.000000  "
      ]
     },
     "execution_count": 15,
     "metadata": {},
     "output_type": "execute_result"
    }
   ],
   "source": [
    "dist"
   ]
  },
  {
   "cell_type": "code",
   "execution_count": 16,
   "metadata": {},
   "outputs": [
    {
     "name": "stderr",
     "output_type": "stream",
     "text": [
      "C:\\Users\\yh_in\\anaconda3\\lib\\site-packages\\ipykernel_launcher.py:2: ClusterWarning: scipy.cluster: The symmetric non-negative hollow observation matrix looks suspiciously like an uncondensed distance matrix\n",
      "  \n"
     ]
    }
   ],
   "source": [
    "# クラスター\n",
    "link=sch.linkage(dist, 'single')"
   ]
  },
  {
   "cell_type": "code",
   "execution_count": 17,
   "metadata": {},
   "outputs": [
    {
     "data": {
      "text/plain": [
       "array([[ 1.        ,  9.        ,  0.16929634,  2.        ],\n",
       "       [ 3.        ,  5.        ,  0.17079487,  2.        ],\n",
       "       [ 0.        ,  6.        ,  0.17307963,  2.        ],\n",
       "       [ 2.        ,  8.        ,  0.17991397,  2.        ],\n",
       "       [ 7.        , 13.        ,  0.1810718 ,  3.        ],\n",
       "       [ 4.        , 11.        ,  1.15427466,  3.        ],\n",
       "       [12.        , 15.        ,  1.16230241,  5.        ],\n",
       "       [10.        , 16.        ,  1.16473907,  7.        ],\n",
       "       [14.        , 17.        ,  1.27300025, 10.        ]])"
      ]
     },
     "execution_count": 17,
     "metadata": {},
     "output_type": "execute_result"
    }
   ],
   "source": [
    "link"
   ]
  },
  {
   "cell_type": "code",
   "execution_count": 18,
   "metadata": {},
   "outputs": [],
   "source": [
    "# クラスター順に要素を並べる\n",
    "sortIx=getQuasiDiag(link)"
   ]
  },
  {
   "cell_type": "code",
   "execution_count": 19,
   "metadata": {},
   "outputs": [
    {
     "data": {
      "text/plain": [
       "[7, 2, 8, 1, 9, 0, 6, 4, 3, 5]"
      ]
     },
     "execution_count": 19,
     "metadata": {},
     "output_type": "execute_result"
    }
   ],
   "source": [
    "sortIx"
   ]
  },
  {
   "cell_type": "code",
   "execution_count": 20,
   "metadata": {},
   "outputs": [],
   "source": [
    "# クラスター順に要素のインデックスを並べる\n",
    "sortIx = corr.index[sortIx].tolist()"
   ]
  },
  {
   "cell_type": "code",
   "execution_count": 21,
   "metadata": {},
   "outputs": [
    {
     "data": {
      "text/plain": [
       "[8, 3, 9, 2, 10, 1, 7, 5, 4, 6]"
      ]
     },
     "execution_count": 21,
     "metadata": {},
     "output_type": "execute_result"
    }
   ],
   "source": [
    "# 列番号\n",
    "sortIx"
   ]
  },
  {
   "cell_type": "code",
   "execution_count": 24,
   "metadata": {},
   "outputs": [],
   "source": [
    "# 相関行列をクラスター順に並び替え\n",
    "df0=corr.loc[sortIx, sortIx]"
   ]
  },
  {
   "cell_type": "code",
   "execution_count": 22,
   "metadata": {},
   "outputs": [
    {
     "data": {
      "text/html": [
       "<div>\n",
       "<style scoped>\n",
       "    .dataframe tbody tr th:only-of-type {\n",
       "        vertical-align: middle;\n",
       "    }\n",
       "\n",
       "    .dataframe tbody tr th {\n",
       "        vertical-align: top;\n",
       "    }\n",
       "\n",
       "    .dataframe thead th {\n",
       "        text-align: right;\n",
       "    }\n",
       "</style>\n",
       "<table border=\"1\" class=\"dataframe\">\n",
       "  <thead>\n",
       "    <tr style=\"text-align: right;\">\n",
       "      <th></th>\n",
       "      <th>1</th>\n",
       "      <th>2</th>\n",
       "      <th>3</th>\n",
       "      <th>4</th>\n",
       "      <th>5</th>\n",
       "      <th>6</th>\n",
       "      <th>7</th>\n",
       "      <th>8</th>\n",
       "      <th>9</th>\n",
       "      <th>10</th>\n",
       "    </tr>\n",
       "  </thead>\n",
       "  <tbody>\n",
       "    <tr>\n",
       "      <th>1</th>\n",
       "      <td>1.000000</td>\n",
       "      <td>-0.003036</td>\n",
       "      <td>0.010026</td>\n",
       "      <td>-0.010693</td>\n",
       "      <td>-0.005020</td>\n",
       "      <td>-0.011589</td>\n",
       "      <td>0.970062</td>\n",
       "      <td>0.013251</td>\n",
       "      <td>0.011418</td>\n",
       "      <td>-0.009015</td>\n",
       "    </tr>\n",
       "    <tr>\n",
       "      <th>2</th>\n",
       "      <td>-0.003036</td>\n",
       "      <td>1.000000</td>\n",
       "      <td>0.008572</td>\n",
       "      <td>0.007259</td>\n",
       "      <td>-0.009423</td>\n",
       "      <td>0.011275</td>\n",
       "      <td>-0.009117</td>\n",
       "      <td>0.002663</td>\n",
       "      <td>0.009720</td>\n",
       "      <td>0.971349</td>\n",
       "    </tr>\n",
       "    <tr>\n",
       "      <th>3</th>\n",
       "      <td>0.010026</td>\n",
       "      <td>0.008572</td>\n",
       "      <td>1.000000</td>\n",
       "      <td>-0.000634</td>\n",
       "      <td>0.001777</td>\n",
       "      <td>0.000190</td>\n",
       "      <td>0.006205</td>\n",
       "      <td>0.969700</td>\n",
       "      <td>0.970040</td>\n",
       "      <td>0.007698</td>\n",
       "    </tr>\n",
       "    <tr>\n",
       "      <th>4</th>\n",
       "      <td>-0.010693</td>\n",
       "      <td>0.007259</td>\n",
       "      <td>-0.000634</td>\n",
       "      <td>1.000000</td>\n",
       "      <td>0.005709</td>\n",
       "      <td>0.970834</td>\n",
       "      <td>-0.011512</td>\n",
       "      <td>-0.005719</td>\n",
       "      <td>0.004416</td>\n",
       "      <td>0.009210</td>\n",
       "    </tr>\n",
       "    <tr>\n",
       "      <th>5</th>\n",
       "      <td>-0.005020</td>\n",
       "      <td>-0.009423</td>\n",
       "      <td>0.001777</td>\n",
       "      <td>0.005709</td>\n",
       "      <td>1.000000</td>\n",
       "      <td>0.009208</td>\n",
       "      <td>-0.009347</td>\n",
       "      <td>0.004363</td>\n",
       "      <td>0.004903</td>\n",
       "      <td>-0.007626</td>\n",
       "    </tr>\n",
       "    <tr>\n",
       "      <th>6</th>\n",
       "      <td>-0.011589</td>\n",
       "      <td>0.011275</td>\n",
       "      <td>0.000190</td>\n",
       "      <td>0.970834</td>\n",
       "      <td>0.009208</td>\n",
       "      <td>1.000000</td>\n",
       "      <td>-0.013006</td>\n",
       "      <td>-0.004731</td>\n",
       "      <td>0.004932</td>\n",
       "      <td>0.012271</td>\n",
       "    </tr>\n",
       "    <tr>\n",
       "      <th>7</th>\n",
       "      <td>0.970062</td>\n",
       "      <td>-0.009117</td>\n",
       "      <td>0.006205</td>\n",
       "      <td>-0.011512</td>\n",
       "      <td>-0.009347</td>\n",
       "      <td>-0.013006</td>\n",
       "      <td>1.000000</td>\n",
       "      <td>0.008737</td>\n",
       "      <td>0.007234</td>\n",
       "      <td>-0.015202</td>\n",
       "    </tr>\n",
       "    <tr>\n",
       "      <th>8</th>\n",
       "      <td>0.013251</td>\n",
       "      <td>0.002663</td>\n",
       "      <td>0.969700</td>\n",
       "      <td>-0.005719</td>\n",
       "      <td>0.004363</td>\n",
       "      <td>-0.004731</td>\n",
       "      <td>0.008737</td>\n",
       "      <td>1.000000</td>\n",
       "      <td>0.940772</td>\n",
       "      <td>0.002055</td>\n",
       "    </tr>\n",
       "    <tr>\n",
       "      <th>9</th>\n",
       "      <td>0.011418</td>\n",
       "      <td>0.009720</td>\n",
       "      <td>0.970040</td>\n",
       "      <td>0.004416</td>\n",
       "      <td>0.004903</td>\n",
       "      <td>0.004932</td>\n",
       "      <td>0.007234</td>\n",
       "      <td>0.940772</td>\n",
       "      <td>1.000000</td>\n",
       "      <td>0.009188</td>\n",
       "    </tr>\n",
       "    <tr>\n",
       "      <th>10</th>\n",
       "      <td>-0.009015</td>\n",
       "      <td>0.971349</td>\n",
       "      <td>0.007698</td>\n",
       "      <td>0.009210</td>\n",
       "      <td>-0.007626</td>\n",
       "      <td>0.012271</td>\n",
       "      <td>-0.015202</td>\n",
       "      <td>0.002055</td>\n",
       "      <td>0.009188</td>\n",
       "      <td>1.000000</td>\n",
       "    </tr>\n",
       "  </tbody>\n",
       "</table>\n",
       "</div>"
      ],
      "text/plain": [
       "          1         2         3         4         5         6         7   \\\n",
       "1   1.000000 -0.003036  0.010026 -0.010693 -0.005020 -0.011589  0.970062   \n",
       "2  -0.003036  1.000000  0.008572  0.007259 -0.009423  0.011275 -0.009117   \n",
       "3   0.010026  0.008572  1.000000 -0.000634  0.001777  0.000190  0.006205   \n",
       "4  -0.010693  0.007259 -0.000634  1.000000  0.005709  0.970834 -0.011512   \n",
       "5  -0.005020 -0.009423  0.001777  0.005709  1.000000  0.009208 -0.009347   \n",
       "6  -0.011589  0.011275  0.000190  0.970834  0.009208  1.000000 -0.013006   \n",
       "7   0.970062 -0.009117  0.006205 -0.011512 -0.009347 -0.013006  1.000000   \n",
       "8   0.013251  0.002663  0.969700 -0.005719  0.004363 -0.004731  0.008737   \n",
       "9   0.011418  0.009720  0.970040  0.004416  0.004903  0.004932  0.007234   \n",
       "10 -0.009015  0.971349  0.007698  0.009210 -0.007626  0.012271 -0.015202   \n",
       "\n",
       "          8         9         10  \n",
       "1   0.013251  0.011418 -0.009015  \n",
       "2   0.002663  0.009720  0.971349  \n",
       "3   0.969700  0.970040  0.007698  \n",
       "4  -0.005719  0.004416  0.009210  \n",
       "5   0.004363  0.004903 -0.007626  \n",
       "6  -0.004731  0.004932  0.012271  \n",
       "7   0.008737  0.007234 -0.015202  \n",
       "8   1.000000  0.940772  0.002055  \n",
       "9   0.940772  1.000000  0.009188  \n",
       "10  0.002055  0.009188  1.000000  "
      ]
     },
     "execution_count": 22,
     "metadata": {},
     "output_type": "execute_result"
    }
   ],
   "source": [
    "corr"
   ]
  },
  {
   "cell_type": "code",
   "execution_count": 25,
   "metadata": {},
   "outputs": [
    {
     "data": {
      "text/html": [
       "<div>\n",
       "<style scoped>\n",
       "    .dataframe tbody tr th:only-of-type {\n",
       "        vertical-align: middle;\n",
       "    }\n",
       "\n",
       "    .dataframe tbody tr th {\n",
       "        vertical-align: top;\n",
       "    }\n",
       "\n",
       "    .dataframe thead th {\n",
       "        text-align: right;\n",
       "    }\n",
       "</style>\n",
       "<table border=\"1\" class=\"dataframe\">\n",
       "  <thead>\n",
       "    <tr style=\"text-align: right;\">\n",
       "      <th></th>\n",
       "      <th>8</th>\n",
       "      <th>3</th>\n",
       "      <th>9</th>\n",
       "      <th>2</th>\n",
       "      <th>10</th>\n",
       "      <th>1</th>\n",
       "      <th>7</th>\n",
       "      <th>5</th>\n",
       "      <th>4</th>\n",
       "      <th>6</th>\n",
       "    </tr>\n",
       "  </thead>\n",
       "  <tbody>\n",
       "    <tr>\n",
       "      <th>8</th>\n",
       "      <td>1.000000</td>\n",
       "      <td>0.969700</td>\n",
       "      <td>0.940772</td>\n",
       "      <td>0.002663</td>\n",
       "      <td>0.002055</td>\n",
       "      <td>0.013251</td>\n",
       "      <td>0.008737</td>\n",
       "      <td>0.004363</td>\n",
       "      <td>-0.005719</td>\n",
       "      <td>-0.004731</td>\n",
       "    </tr>\n",
       "    <tr>\n",
       "      <th>3</th>\n",
       "      <td>0.969700</td>\n",
       "      <td>1.000000</td>\n",
       "      <td>0.970040</td>\n",
       "      <td>0.008572</td>\n",
       "      <td>0.007698</td>\n",
       "      <td>0.010026</td>\n",
       "      <td>0.006205</td>\n",
       "      <td>0.001777</td>\n",
       "      <td>-0.000634</td>\n",
       "      <td>0.000190</td>\n",
       "    </tr>\n",
       "    <tr>\n",
       "      <th>9</th>\n",
       "      <td>0.940772</td>\n",
       "      <td>0.970040</td>\n",
       "      <td>1.000000</td>\n",
       "      <td>0.009720</td>\n",
       "      <td>0.009188</td>\n",
       "      <td>0.011418</td>\n",
       "      <td>0.007234</td>\n",
       "      <td>0.004903</td>\n",
       "      <td>0.004416</td>\n",
       "      <td>0.004932</td>\n",
       "    </tr>\n",
       "    <tr>\n",
       "      <th>2</th>\n",
       "      <td>0.002663</td>\n",
       "      <td>0.008572</td>\n",
       "      <td>0.009720</td>\n",
       "      <td>1.000000</td>\n",
       "      <td>0.971349</td>\n",
       "      <td>-0.003036</td>\n",
       "      <td>-0.009117</td>\n",
       "      <td>-0.009423</td>\n",
       "      <td>0.007259</td>\n",
       "      <td>0.011275</td>\n",
       "    </tr>\n",
       "    <tr>\n",
       "      <th>10</th>\n",
       "      <td>0.002055</td>\n",
       "      <td>0.007698</td>\n",
       "      <td>0.009188</td>\n",
       "      <td>0.971349</td>\n",
       "      <td>1.000000</td>\n",
       "      <td>-0.009015</td>\n",
       "      <td>-0.015202</td>\n",
       "      <td>-0.007626</td>\n",
       "      <td>0.009210</td>\n",
       "      <td>0.012271</td>\n",
       "    </tr>\n",
       "    <tr>\n",
       "      <th>1</th>\n",
       "      <td>0.013251</td>\n",
       "      <td>0.010026</td>\n",
       "      <td>0.011418</td>\n",
       "      <td>-0.003036</td>\n",
       "      <td>-0.009015</td>\n",
       "      <td>1.000000</td>\n",
       "      <td>0.970062</td>\n",
       "      <td>-0.005020</td>\n",
       "      <td>-0.010693</td>\n",
       "      <td>-0.011589</td>\n",
       "    </tr>\n",
       "    <tr>\n",
       "      <th>7</th>\n",
       "      <td>0.008737</td>\n",
       "      <td>0.006205</td>\n",
       "      <td>0.007234</td>\n",
       "      <td>-0.009117</td>\n",
       "      <td>-0.015202</td>\n",
       "      <td>0.970062</td>\n",
       "      <td>1.000000</td>\n",
       "      <td>-0.009347</td>\n",
       "      <td>-0.011512</td>\n",
       "      <td>-0.013006</td>\n",
       "    </tr>\n",
       "    <tr>\n",
       "      <th>5</th>\n",
       "      <td>0.004363</td>\n",
       "      <td>0.001777</td>\n",
       "      <td>0.004903</td>\n",
       "      <td>-0.009423</td>\n",
       "      <td>-0.007626</td>\n",
       "      <td>-0.005020</td>\n",
       "      <td>-0.009347</td>\n",
       "      <td>1.000000</td>\n",
       "      <td>0.005709</td>\n",
       "      <td>0.009208</td>\n",
       "    </tr>\n",
       "    <tr>\n",
       "      <th>4</th>\n",
       "      <td>-0.005719</td>\n",
       "      <td>-0.000634</td>\n",
       "      <td>0.004416</td>\n",
       "      <td>0.007259</td>\n",
       "      <td>0.009210</td>\n",
       "      <td>-0.010693</td>\n",
       "      <td>-0.011512</td>\n",
       "      <td>0.005709</td>\n",
       "      <td>1.000000</td>\n",
       "      <td>0.970834</td>\n",
       "    </tr>\n",
       "    <tr>\n",
       "      <th>6</th>\n",
       "      <td>-0.004731</td>\n",
       "      <td>0.000190</td>\n",
       "      <td>0.004932</td>\n",
       "      <td>0.011275</td>\n",
       "      <td>0.012271</td>\n",
       "      <td>-0.011589</td>\n",
       "      <td>-0.013006</td>\n",
       "      <td>0.009208</td>\n",
       "      <td>0.970834</td>\n",
       "      <td>1.000000</td>\n",
       "    </tr>\n",
       "  </tbody>\n",
       "</table>\n",
       "</div>"
      ],
      "text/plain": [
       "          8         3         9         2         10        1         7   \\\n",
       "8   1.000000  0.969700  0.940772  0.002663  0.002055  0.013251  0.008737   \n",
       "3   0.969700  1.000000  0.970040  0.008572  0.007698  0.010026  0.006205   \n",
       "9   0.940772  0.970040  1.000000  0.009720  0.009188  0.011418  0.007234   \n",
       "2   0.002663  0.008572  0.009720  1.000000  0.971349 -0.003036 -0.009117   \n",
       "10  0.002055  0.007698  0.009188  0.971349  1.000000 -0.009015 -0.015202   \n",
       "1   0.013251  0.010026  0.011418 -0.003036 -0.009015  1.000000  0.970062   \n",
       "7   0.008737  0.006205  0.007234 -0.009117 -0.015202  0.970062  1.000000   \n",
       "5   0.004363  0.001777  0.004903 -0.009423 -0.007626 -0.005020 -0.009347   \n",
       "4  -0.005719 -0.000634  0.004416  0.007259  0.009210 -0.010693 -0.011512   \n",
       "6  -0.004731  0.000190  0.004932  0.011275  0.012271 -0.011589 -0.013006   \n",
       "\n",
       "          5         4         6   \n",
       "8   0.004363 -0.005719 -0.004731  \n",
       "3   0.001777 -0.000634  0.000190  \n",
       "9   0.004903  0.004416  0.004932  \n",
       "2  -0.009423  0.007259  0.011275  \n",
       "10 -0.007626  0.009210  0.012271  \n",
       "1  -0.005020 -0.010693 -0.011589  \n",
       "7  -0.009347 -0.011512 -0.013006  \n",
       "5   1.000000  0.005709  0.009208  \n",
       "4   0.005709  1.000000  0.970834  \n",
       "6   0.009208  0.970834  1.000000  "
      ]
     },
     "execution_count": 25,
     "metadata": {},
     "output_type": "execute_result"
    }
   ],
   "source": [
    "df0"
   ]
  },
  {
   "cell_type": "code",
   "execution_count": 26,
   "metadata": {},
   "outputs": [
    {
     "data": {
      "image/png": "[encoded data removed]",
      "text/plain": [
       "<Figure size 432x288 with 2 Axes>"
      ]
     },
     "metadata": {
      "needs_background": "light"
     },
     "output_type": "display_data"
    }
   ],
   "source": [
    "# 相関の高い列が隣接するようになる\n",
    "plotCorrMatrix(df0, labels=corr.columns)"
   ]
  },
  {
   "cell_type": "code",
   "execution_count": 57,
   "metadata": {},
   "outputs": [],
   "source": [
    "hrp=getRecBipart(cov, sortIx)"
   ]
  },
  {
   "cell_type": "code",
   "execution_count": 58,
   "metadata": {},
   "outputs": [
    {
     "data": {
      "text/plain": [
       "8     0.071408\n",
       "3     0.075961\n",
       "9     0.125317\n",
       "2     0.067596\n",
       "10    0.063236\n",
       "1     0.109945\n",
       "7     0.103968\n",
       "5     0.193357\n",
       "4     0.097549\n",
       "6     0.091662\n",
       "dtype: float64"
      ]
     },
     "execution_count": 58,
     "metadata": {},
     "output_type": "execute_result"
    }
   ],
   "source": [
    "hrp"
   ]
  },
  {
   "cell_type": "code",
   "execution_count": null,
   "metadata": {},
   "outputs": [],
   "source": []
  },
  {
   "cell_type": "code",
   "execution_count": null,
   "metadata": {},
   "outputs": [],
   "source": []
  },
  {
   "cell_type": "code",
   "execution_count": null,
   "metadata": {},
   "outputs": [],
   "source": []
  },
  {
   "cell_type": "code",
   "execution_count": null,
   "metadata": {},
   "outputs": [],
   "source": []
  },
  {
   "cell_type": "code",
   "execution_count": null,
   "metadata": {},
   "outputs": [],
   "source": []
  },
  {
   "cell_type": "markdown",
   "metadata": {},
   "source": [
    "# 事前準備  \n",
    "時系列株価データの取得"
   ]
  },
  {
   "cell_type": "code",
   "execution_count": 3,
   "metadata": {},
   "outputs": [],
   "source": [
    "from datetime import date, timedelta\n",
    "from pandas_datareader import data as pdr"
   ]
  },
  {
   "cell_type": "code",
   "execution_count": 4,
   "metadata": {},
   "outputs": [],
   "source": [
    "# 期間設定\n",
    "today = date.today()\n",
    "startday = today - timedelta(days=20)\n",
    "# 銘柄設定\n",
    "ticker_list = [\"IBM\", \"AAPL\", \"MSFT\", \"C\", \"T\"]"
   ]
  },
  {
   "cell_type": "code",
   "execution_count": 5,
   "metadata": {},
   "outputs": [],
   "source": [
    "# 取得\n",
    "pd_data = pdr.DataReader(ticker_list, \"stooq\", startday)"
   ]
  },
  {
   "cell_type": "code",
   "execution_count": 6,
   "metadata": {},
   "outputs": [],
   "source": [
    "# リターン\n",
    "ret = pd_data['Close'].sort_index(ascending=True)\n",
    "ret=ret.pct_change().drop(ret.index[0])"
   ]
  },
  {
   "cell_type": "code",
   "execution_count": 31,
   "metadata": {},
   "outputs": [],
   "source": [
    "# 共分散行列\n",
    "cvm = ret.cov()"
   ]
  },
  {
   "cell_type": "code",
   "execution_count": 32,
   "metadata": {},
   "outputs": [],
   "source": [
    "# 株価\n",
    "prc = pd_data['Close']['IBM'].sort_index(ascending=True)"
   ]
  },
  {
   "cell_type": "code",
   "execution_count": null,
   "metadata": {},
   "outputs": [],
   "source": []
  },
  {
   "cell_type": "code",
   "execution_count": null,
   "metadata": {},
   "outputs": [],
   "source": []
  },
  {
   "cell_type": "code",
   "execution_count": null,
   "metadata": {},
   "outputs": [],
   "source": []
  },
  {
   "cell_type": "code",
   "execution_count": 7,
   "metadata": {},
   "outputs": [],
   "source": [
    "ret_c=ret[\"C\"].reset_index(drop=True)"
   ]
  },
  {
   "cell_type": "code",
   "execution_count": 8,
   "metadata": {},
   "outputs": [
    {
     "data": {
      "text/plain": [
       "0     0.007266\n",
       "1    -0.005530\n",
       "2     0.000242\n",
       "3    -0.015470\n",
       "4    -0.003437\n",
       "5     0.000000\n",
       "6     0.026854\n",
       "7     0.016555\n",
       "8     0.018173\n",
       "9    -0.009968\n",
       "10   -0.001639\n",
       "11    0.000938\n",
       "Name: C, dtype: float64"
      ]
     },
     "execution_count": 8,
     "metadata": {},
     "output_type": "execute_result"
    }
   ],
   "source": [
    "ret_c"
   ]
  },
  {
   "cell_type": "code",
   "execution_count": 9,
   "metadata": {},
   "outputs": [],
   "source": [
    "df1=pd.DataFrame()"
   ]
  },
  {
   "cell_type": "code",
   "execution_count": 23,
   "metadata": {},
   "outputs": [],
   "source": [
    "df_=pd.DataFrame(ret_c.shift(4).copy(deep=True))"
   ]
  },
  {
   "cell_type": "code",
   "execution_count": 24,
   "metadata": {},
   "outputs": [],
   "source": [
    "df_.columns = [\"L4\"]"
   ]
  },
  {
   "cell_type": "code",
   "execution_count": 25,
   "metadata": {},
   "outputs": [],
   "source": [
    "df1=df1.join(df_, how='outer')"
   ]
  },
  {
   "cell_type": "code",
   "execution_count": 26,
   "metadata": {},
   "outputs": [
    {
     "data": {
      "text/html": [
       "<div>\n",
       "<style scoped>\n",
       "    .dataframe tbody tr th:only-of-type {\n",
       "        vertical-align: middle;\n",
       "    }\n",
       "\n",
       "    .dataframe tbody tr th {\n",
       "        vertical-align: top;\n",
       "    }\n",
       "\n",
       "    .dataframe thead th {\n",
       "        text-align: right;\n",
       "    }\n",
       "</style>\n",
       "<table border=\"1\" class=\"dataframe\">\n",
       "  <thead>\n",
       "    <tr style=\"text-align: right;\">\n",
       "      <th></th>\n",
       "      <th>L1</th>\n",
       "      <th>L2</th>\n",
       "      <th>L3</th>\n",
       "      <th>L4</th>\n",
       "    </tr>\n",
       "  </thead>\n",
       "  <tbody>\n",
       "    <tr>\n",
       "      <th>0</th>\n",
       "      <td>NaN</td>\n",
       "      <td>NaN</td>\n",
       "      <td>NaN</td>\n",
       "      <td>NaN</td>\n",
       "    </tr>\n",
       "    <tr>\n",
       "      <th>1</th>\n",
       "      <td>0.007266</td>\n",
       "      <td>NaN</td>\n",
       "      <td>NaN</td>\n",
       "      <td>NaN</td>\n",
       "    </tr>\n",
       "    <tr>\n",
       "      <th>2</th>\n",
       "      <td>-0.005530</td>\n",
       "      <td>0.007266</td>\n",
       "      <td>NaN</td>\n",
       "      <td>NaN</td>\n",
       "    </tr>\n",
       "    <tr>\n",
       "      <th>3</th>\n",
       "      <td>0.000242</td>\n",
       "      <td>-0.005530</td>\n",
       "      <td>0.007266</td>\n",
       "      <td>NaN</td>\n",
       "    </tr>\n",
       "    <tr>\n",
       "      <th>4</th>\n",
       "      <td>-0.015470</td>\n",
       "      <td>0.000242</td>\n",
       "      <td>-0.005530</td>\n",
       "      <td>0.007266</td>\n",
       "    </tr>\n",
       "    <tr>\n",
       "      <th>5</th>\n",
       "      <td>-0.003437</td>\n",
       "      <td>-0.015470</td>\n",
       "      <td>0.000242</td>\n",
       "      <td>-0.005530</td>\n",
       "    </tr>\n",
       "    <tr>\n",
       "      <th>6</th>\n",
       "      <td>0.000000</td>\n",
       "      <td>-0.003437</td>\n",
       "      <td>-0.015470</td>\n",
       "      <td>0.000242</td>\n",
       "    </tr>\n",
       "    <tr>\n",
       "      <th>7</th>\n",
       "      <td>0.026854</td>\n",
       "      <td>0.000000</td>\n",
       "      <td>-0.003437</td>\n",
       "      <td>-0.015470</td>\n",
       "    </tr>\n",
       "    <tr>\n",
       "      <th>8</th>\n",
       "      <td>0.016555</td>\n",
       "      <td>0.026854</td>\n",
       "      <td>0.000000</td>\n",
       "      <td>-0.003437</td>\n",
       "    </tr>\n",
       "    <tr>\n",
       "      <th>9</th>\n",
       "      <td>0.018173</td>\n",
       "      <td>0.016555</td>\n",
       "      <td>0.026854</td>\n",
       "      <td>0.000000</td>\n",
       "    </tr>\n",
       "    <tr>\n",
       "      <th>10</th>\n",
       "      <td>-0.009968</td>\n",
       "      <td>0.018173</td>\n",
       "      <td>0.016555</td>\n",
       "      <td>0.026854</td>\n",
       "    </tr>\n",
       "    <tr>\n",
       "      <th>11</th>\n",
       "      <td>-0.001639</td>\n",
       "      <td>-0.009968</td>\n",
       "      <td>0.018173</td>\n",
       "      <td>0.016555</td>\n",
       "    </tr>\n",
       "  </tbody>\n",
       "</table>\n",
       "</div>"
      ],
      "text/plain": [
       "          L1        L2        L3        L4\n",
       "0        NaN       NaN       NaN       NaN\n",
       "1   0.007266       NaN       NaN       NaN\n",
       "2  -0.005530  0.007266       NaN       NaN\n",
       "3   0.000242 -0.005530  0.007266       NaN\n",
       "4  -0.015470  0.000242 -0.005530  0.007266\n",
       "5  -0.003437 -0.015470  0.000242 -0.005530\n",
       "6   0.000000 -0.003437 -0.015470  0.000242\n",
       "7   0.026854  0.000000 -0.003437 -0.015470\n",
       "8   0.016555  0.026854  0.000000 -0.003437\n",
       "9   0.018173  0.016555  0.026854  0.000000\n",
       "10 -0.009968  0.018173  0.016555  0.026854\n",
       "11 -0.001639 -0.009968  0.018173  0.016555"
      ]
     },
     "execution_count": 26,
     "metadata": {},
     "output_type": "execute_result"
    }
   ],
   "source": [
    "df1"
   ]
  },
  {
   "cell_type": "code",
   "execution_count": 53,
   "metadata": {},
   "outputs": [],
   "source": [
    "df1_bkup = x"
   ]
  },
  {
   "cell_type": "code",
   "execution_count": null,
   "metadata": {},
   "outputs": [],
   "source": []
  },
  {
   "cell_type": "code",
   "execution_count": 45,
   "metadata": {},
   "outputs": [],
   "source": [
    "x=df1.dropna()"
   ]
  },
  {
   "cell_type": "code",
   "execution_count": 47,
   "metadata": {},
   "outputs": [
    {
     "data": {
      "text/plain": [
       "4    -0.015470\n",
       "5    -0.003437\n",
       "6     0.000000\n",
       "7     0.026854\n",
       "8     0.016555\n",
       "9     0.018173\n",
       "10   -0.009968\n",
       "11   -0.001639\n",
       "Name: L1, dtype: float64"
      ]
     },
     "execution_count": 47,
     "metadata": {},
     "output_type": "execute_result"
    }
   ],
   "source": [
    "x.iloc[:, 0]"
   ]
  },
  {
   "cell_type": "code",
   "execution_count": 48,
   "metadata": {},
   "outputs": [
    {
     "data": {
      "text/html": [
       "<div>\n",
       "<style scoped>\n",
       "    .dataframe tbody tr th:only-of-type {\n",
       "        vertical-align: middle;\n",
       "    }\n",
       "\n",
       "    .dataframe tbody tr th {\n",
       "        vertical-align: top;\n",
       "    }\n",
       "\n",
       "    .dataframe thead th {\n",
       "        text-align: right;\n",
       "    }\n",
       "</style>\n",
       "<table border=\"1\" class=\"dataframe\">\n",
       "  <thead>\n",
       "    <tr style=\"text-align: right;\">\n",
       "      <th></th>\n",
       "      <th>L1</th>\n",
       "      <th>L2</th>\n",
       "      <th>L3</th>\n",
       "      <th>L4</th>\n",
       "    </tr>\n",
       "  </thead>\n",
       "  <tbody>\n",
       "    <tr>\n",
       "      <th>4</th>\n",
       "      <td>-0.015470</td>\n",
       "      <td>0.000242</td>\n",
       "      <td>-0.005530</td>\n",
       "      <td>0.007266</td>\n",
       "    </tr>\n",
       "    <tr>\n",
       "      <th>5</th>\n",
       "      <td>-0.003437</td>\n",
       "      <td>-0.015470</td>\n",
       "      <td>0.000242</td>\n",
       "      <td>-0.005530</td>\n",
       "    </tr>\n",
       "    <tr>\n",
       "      <th>6</th>\n",
       "      <td>0.000000</td>\n",
       "      <td>-0.003437</td>\n",
       "      <td>-0.015470</td>\n",
       "      <td>0.000242</td>\n",
       "    </tr>\n",
       "    <tr>\n",
       "      <th>7</th>\n",
       "      <td>0.026854</td>\n",
       "      <td>0.000000</td>\n",
       "      <td>-0.003437</td>\n",
       "      <td>-0.015470</td>\n",
       "    </tr>\n",
       "    <tr>\n",
       "      <th>8</th>\n",
       "      <td>0.016555</td>\n",
       "      <td>0.026854</td>\n",
       "      <td>0.000000</td>\n",
       "      <td>-0.003437</td>\n",
       "    </tr>\n",
       "    <tr>\n",
       "      <th>9</th>\n",
       "      <td>0.018173</td>\n",
       "      <td>0.016555</td>\n",
       "      <td>0.026854</td>\n",
       "      <td>0.000000</td>\n",
       "    </tr>\n",
       "    <tr>\n",
       "      <th>10</th>\n",
       "      <td>-0.009968</td>\n",
       "      <td>0.018173</td>\n",
       "      <td>0.016555</td>\n",
       "      <td>0.026854</td>\n",
       "    </tr>\n",
       "    <tr>\n",
       "      <th>11</th>\n",
       "      <td>-0.001639</td>\n",
       "      <td>-0.009968</td>\n",
       "      <td>0.018173</td>\n",
       "      <td>0.016555</td>\n",
       "    </tr>\n",
       "  </tbody>\n",
       "</table>\n",
       "</div>"
      ],
      "text/plain": [
       "          L1        L2        L3        L4\n",
       "4  -0.015470  0.000242 -0.005530  0.007266\n",
       "5  -0.003437 -0.015470  0.000242 -0.005530\n",
       "6   0.000000 -0.003437 -0.015470  0.000242\n",
       "7   0.026854  0.000000 -0.003437 -0.015470\n",
       "8   0.016555  0.026854  0.000000 -0.003437\n",
       "9   0.018173  0.016555  0.026854  0.000000\n",
       "10 -0.009968  0.018173  0.016555  0.026854\n",
       "11 -0.001639 -0.009968  0.018173  0.016555"
      ]
     },
     "execution_count": 48,
     "metadata": {},
     "output_type": "execute_result"
    }
   ],
   "source": [
    "x"
   ]
  },
  {
   "cell_type": "code",
   "execution_count": 49,
   "metadata": {},
   "outputs": [
    {
     "data": {
      "text/plain": [
       "(8, 4)"
      ]
     },
     "execution_count": 49,
     "metadata": {},
     "output_type": "execute_result"
    }
   ],
   "source": [
    "x.shape"
   ]
  },
  {
   "cell_type": "code",
   "execution_count": 51,
   "metadata": {},
   "outputs": [
    {
     "data": {
      "text/plain": [
       "array([-0.01547015, -0.00343727,  0.        ,  0.0268539 ,  0.0165547 ,\n",
       "        0.01817324, -0.00996755, -0.00163896])"
      ]
     },
     "execution_count": 51,
     "metadata": {},
     "output_type": "execute_result"
    }
   ],
   "source": [
    "pd.DataFrame(ret_c).values[-9:-1,0]"
   ]
  },
  {
   "cell_type": "code",
   "execution_count": null,
   "metadata": {},
   "outputs": [],
   "source": []
  },
  {
   "cell_type": "code",
   "execution_count": 54,
   "metadata": {},
   "outputs": [
    {
     "name": "stderr",
     "output_type": "stream",
     "text": [
      "C:\\Users\\yh_in\\anaconda3\\lib\\site-packages\\pandas\\core\\indexing.py:1047: SettingWithCopyWarning: \n",
      "A value is trying to be set on a copy of a slice from a DataFrame.\n",
      "Try using .loc[row_indexer,col_indexer] = value instead\n",
      "\n",
      "See the caveats in the documentation: https://pandas.pydata.org/pandas-docs/stable/user_guide/indexing.html#returning-a-view-versus-a-copy\n",
      "  self.obj[item_labels[indexer[info_axis]]] = value\n"
     ]
    }
   ],
   "source": [
    "df1_bkup.iloc[:,0]=pd.DataFrame(ret_c).values[-9:-1,0]"
   ]
  },
  {
   "cell_type": "code",
   "execution_count": 56,
   "metadata": {},
   "outputs": [
    {
     "data": {
      "text/plain": [
       "4    -0.003437\n",
       "5     0.000000\n",
       "6     0.026854\n",
       "7     0.016555\n",
       "8     0.018173\n",
       "9    -0.009968\n",
       "10   -0.001639\n",
       "11    0.000938\n",
       "Name: C, dtype: float64"
      ]
     },
     "execution_count": 56,
     "metadata": {},
     "output_type": "execute_result"
    }
   ],
   "source": [
    "ret_c.iloc[-8:]"
   ]
  },
  {
   "cell_type": "code",
   "execution_count": 57,
   "metadata": {},
   "outputs": [
    {
     "data": {
      "text/plain": [
       "0     0.007266\n",
       "1    -0.005530\n",
       "2     0.000242\n",
       "3    -0.015470\n",
       "4    -0.003437\n",
       "5     0.000000\n",
       "6     0.026854\n",
       "7     0.016555\n",
       "8     0.018173\n",
       "9    -0.009968\n",
       "10   -0.001639\n",
       "11    0.000938\n",
       "Name: C, dtype: float64"
      ]
     },
     "execution_count": 57,
     "metadata": {},
     "output_type": "execute_result"
    }
   ],
   "source": [
    "ret_c"
   ]
  },
  {
   "cell_type": "code",
   "execution_count": null,
   "metadata": {},
   "outputs": [],
   "source": []
  },
  {
   "cell_type": "code",
   "execution_count": null,
   "metadata": {},
   "outputs": [],
   "source": []
  },
  {
   "cell_type": "code",
   "execution_count": 33,
   "metadata": {},
   "outputs": [
    {
     "data": {
      "text/plain": [
       "array([ 0.00726568, -0.00553018,  0.00024178, -0.01547015, -0.00343727,\n",
       "        0.        ,  0.0268539 ,  0.0165547 ,  0.01817324, -0.00996755,\n",
       "       -0.00163896])"
      ]
     },
     "execution_count": 33,
     "metadata": {},
     "output_type": "execute_result"
    }
   ],
   "source": [
    "pd.DataFrame(ret_c).values[-13:-1,0]"
   ]
  },
  {
   "cell_type": "code",
   "execution_count": 36,
   "metadata": {},
   "outputs": [
    {
     "data": {
      "text/plain": [
       "0     0.007266\n",
       "1    -0.005530\n",
       "2     0.000242\n",
       "3    -0.015470\n",
       "4    -0.003437\n",
       "5     0.000000\n",
       "6     0.026854\n",
       "7     0.016555\n",
       "8     0.018173\n",
       "9    -0.009968\n",
       "10   -0.001639\n",
       "11    0.000938\n",
       "Name: C, dtype: float64"
      ]
     },
     "execution_count": 36,
     "metadata": {},
     "output_type": "execute_result"
    }
   ],
   "source": [
    "ret_c"
   ]
  },
  {
   "cell_type": "code",
   "execution_count": null,
   "metadata": {},
   "outputs": [],
   "source": []
  },
  {
   "cell_type": "code",
   "execution_count": null,
   "metadata": {},
   "outputs": [],
   "source": []
  },
  {
   "cell_type": "code",
   "execution_count": null,
   "metadata": {},
   "outputs": [],
   "source": []
  },
  {
   "cell_type": "code",
   "execution_count": 37,
   "metadata": {},
   "outputs": [],
   "source": [
    "a = list(range(0,10)) "
   ]
  },
  {
   "cell_type": "code",
   "execution_count": 38,
   "metadata": {},
   "outputs": [
    {
     "data": {
      "text/plain": [
       "[0, 1, 2, 3, 4, 5, 6, 7, 8, 9]"
      ]
     },
     "execution_count": 38,
     "metadata": {},
     "output_type": "execute_result"
    }
   ],
   "source": [
    "a"
   ]
  },
  {
   "cell_type": "code",
   "execution_count": 43,
   "metadata": {},
   "outputs": [
    {
     "data": {
      "text/plain": [
       "[0, 1, 2, 3, 4, 5, 6, 7, 8]"
      ]
     },
     "execution_count": 43,
     "metadata": {},
     "output_type": "execute_result"
    }
   ],
   "source": [
    "a[-11:-1]"
   ]
  },
  {
   "cell_type": "code",
   "execution_count": null,
   "metadata": {},
   "outputs": [],
   "source": []
  },
  {
   "cell_type": "code",
   "execution_count": null,
   "metadata": {},
   "outputs": [],
   "source": []
  },
  {
   "cell_type": "code",
   "execution_count": null,
   "metadata": {},
   "outputs": [],
   "source": []
  },
  {
   "cell_type": "markdown",
   "metadata": {},
   "source": [
    "## コードチェック"
   ]
  },
  {
   "cell_type": "code",
   "execution_count": 2,
   "metadata": {},
   "outputs": [
    {
     "name": "stderr",
     "output_type": "stream",
     "text": [
      "C:\\Users\\yh_in\\anaconda3\\lib\\site-packages\\ipykernel_launcher.py:1: FutureWarning: The pandas.datetime class is deprecated and will be removed from pandas in a future version. Import from datetime module instead.\n",
      "  \"\"\"Entry point for launching an IPython kernel.\n"
     ]
    },
    {
     "data": {
      "text/plain": [
       "datetime.datetime(2023, 6, 24, 13, 15, 7, 346010)"
      ]
     },
     "execution_count": 2,
     "metadata": {},
     "output_type": "execute_result"
    }
   ],
   "source": [
    "pd.datetime.today()"
   ]
  },
  {
   "cell_type": "code",
   "execution_count": 3,
   "metadata": {},
   "outputs": [
    {
     "data": {
      "text/plain": [
       "<BusinessDay>"
      ]
     },
     "execution_count": 3,
     "metadata": {},
     "output_type": "execute_result"
    }
   ],
   "source": [
    "pd.tseries.offsets.BDay()"
   ]
  },
  {
   "cell_type": "code",
   "execution_count": 1,
   "metadata": {},
   "outputs": [],
   "source": [
    "dict0 = {'minWLeaf':[.0], 'scoring': ['accuracy'], 'method': ['MDI', 'MDA', 'SFI'], 'max_samples': [1.]}"
   ]
  },
  {
   "cell_type": "code",
   "execution_count": 5,
   "metadata": {},
   "outputs": [
    {
     "ename": "SyntaxError",
     "evalue": "can't use starred expression here (<ipython-input-5-037e8bef21e4>, line 4)",
     "output_type": "error",
     "traceback": [
      "\u001b[1;36m  File \u001b[1;32m\"<ipython-input-5-037e8bef21e4>\"\u001b[1;36m, line \u001b[1;32m4\u001b[0m\n\u001b[1;31mSyntaxError\u001b[0m\u001b[1;31m:\u001b[0m can't use starred expression here\n"
     ]
    }
   ],
   "source": [
    "*dict0.values()"
   ]
  },
  {
   "cell_type": "code",
   "execution_count": 17,
   "metadata": {},
   "outputs": [],
   "source": [
    "val = [i for i in itertools.product(*dict0.values())]"
   ]
  },
  {
   "cell_type": "code",
   "execution_count": 19,
   "metadata": {},
   "outputs": [
    {
     "data": {
      "text/plain": [
       "[(0.0, 'accuracy', 'MDI', 1.0),\n",
       " (0.0, 'accuracy', 'MDA', 1.0),\n",
       " (0.0, 'accuracy', 'SFI', 1.0)]"
      ]
     },
     "execution_count": 19,
     "metadata": {},
     "output_type": "execute_result"
    }
   ],
   "source": [
    "val"
   ]
  },
  {
   "cell_type": "code",
   "execution_count": 16,
   "metadata": {},
   "outputs": [
    {
     "data": {
      "text/plain": [
       "[{'minWLeaf': 0.0, 'scoring': 'accuracy', 'method': 'MDI', 'max_samples': 1.0},\n",
       " {'minWLeaf': 0.0, 'scoring': 'accuracy', 'method': 'MDA', 'max_samples': 1.0},\n",
       " {'minWLeaf': 0.0, 'scoring': 'accuracy', 'method': 'SFI', 'max_samples': 1.0}]"
      ]
     },
     "execution_count": 16,
     "metadata": {},
     "output_type": "execute_result"
    }
   ],
   "source": [
    "[dict(zip(dict0, i)) for i in itertools.product(*dict0.values())]"
   ]
  },
  {
   "cell_type": "code",
   "execution_count": 21,
   "metadata": {},
   "outputs": [
    {
     "data": {
      "text/plain": [
       "{'minWLeaf': [0.0],\n",
       " 'scoring': ['accuracy'],\n",
       " 'method': ['MDI', 'MDA', 'SFI'],\n",
       " 'max_samples': [1.0]}"
      ]
     },
     "execution_count": 21,
     "metadata": {},
     "output_type": "execute_result"
    }
   ],
   "source": [
    "dict0"
   ]
  },
  {
   "cell_type": "code",
   "execution_count": null,
   "metadata": {},
   "outputs": [],
   "source": []
  },
  {
   "cell_type": "code",
   "execution_count": 25,
   "metadata": {},
   "outputs": [
    {
     "data": {
      "text/plain": [
       "{'minWLeaf': 0.0, 'scoring': 'accuracy', 'method': 'MDI', 'max_samples': 1.0}"
      ]
     },
     "execution_count": 25,
     "metadata": {},
     "output_type": "execute_result"
    }
   ],
   "source": [
    "dict(zip(dict0, val[0]))"
   ]
  },
  {
   "cell_type": "code",
   "execution_count": null,
   "metadata": {},
   "outputs": [],
   "source": []
  },
  {
   "cell_type": "code",
   "execution_count": 35,
   "metadata": {},
   "outputs": [
    {
     "data": {
      "text/plain": [
       "pandas.core.frame.DataFrame"
      ]
     },
     "execution_count": 35,
     "metadata": {},
     "output_type": "execute_result"
    }
   ],
   "source": [
    "type(ret)"
   ]
  },
  {
   "cell_type": "code",
   "execution_count": 36,
   "metadata": {},
   "outputs": [
    {
     "data": {
      "text/html": [
       "<div>\n",
       "<style scoped>\n",
       "    .dataframe tbody tr th:only-of-type {\n",
       "        vertical-align: middle;\n",
       "    }\n",
       "\n",
       "    .dataframe tbody tr th {\n",
       "        vertical-align: top;\n",
       "    }\n",
       "\n",
       "    .dataframe thead th {\n",
       "        text-align: right;\n",
       "    }\n",
       "</style>\n",
       "<table border=\"1\" class=\"dataframe\">\n",
       "  <thead>\n",
       "    <tr style=\"text-align: right;\">\n",
       "      <th>Symbols</th>\n",
       "      <th>IBM</th>\n",
       "      <th>AAPL</th>\n",
       "      <th>MSFT</th>\n",
       "      <th>C</th>\n",
       "      <th>T</th>\n",
       "    </tr>\n",
       "    <tr>\n",
       "      <th>Date</th>\n",
       "      <th></th>\n",
       "      <th></th>\n",
       "      <th></th>\n",
       "      <th></th>\n",
       "      <th></th>\n",
       "    </tr>\n",
       "  </thead>\n",
       "  <tbody>\n",
       "    <tr>\n",
       "      <th>2023-06-13</th>\n",
       "      <td>0.008650</td>\n",
       "      <td>-0.002612</td>\n",
       "      <td>0.007353</td>\n",
       "      <td>0.004954</td>\n",
       "      <td>-0.006905</td>\n",
       "    </tr>\n",
       "    <tr>\n",
       "      <th>2023-06-14</th>\n",
       "      <td>-0.002907</td>\n",
       "      <td>0.003491</td>\n",
       "      <td>0.009124</td>\n",
       "      <td>-0.009242</td>\n",
       "      <td>0.001264</td>\n",
       "    </tr>\n",
       "    <tr>\n",
       "      <th>2023-06-15</th>\n",
       "      <td>0.008746</td>\n",
       "      <td>0.011199</td>\n",
       "      <td>0.031897</td>\n",
       "      <td>0.006633</td>\n",
       "      <td>0.011995</td>\n",
       "    </tr>\n",
       "    <tr>\n",
       "      <th>2023-06-16</th>\n",
       "      <td>-0.006647</td>\n",
       "      <td>-0.005860</td>\n",
       "      <td>-0.016576</td>\n",
       "      <td>-0.007619</td>\n",
       "      <td>0.001871</td>\n",
       "    </tr>\n",
       "    <tr>\n",
       "      <th>2023-06-20</th>\n",
       "      <td>-0.011056</td>\n",
       "      <td>0.000487</td>\n",
       "      <td>-0.012503</td>\n",
       "      <td>-0.012036</td>\n",
       "      <td>-0.017435</td>\n",
       "    </tr>\n",
       "    <tr>\n",
       "      <th>2023-06-21</th>\n",
       "      <td>-0.016696</td>\n",
       "      <td>-0.005675</td>\n",
       "      <td>-0.013282</td>\n",
       "      <td>-0.004201</td>\n",
       "      <td>-0.010773</td>\n",
       "    </tr>\n",
       "    <tr>\n",
       "      <th>2023-06-22</th>\n",
       "      <td>-0.018850</td>\n",
       "      <td>0.016525</td>\n",
       "      <td>0.018437</td>\n",
       "      <td>-0.016452</td>\n",
       "      <td>-0.001922</td>\n",
       "    </tr>\n",
       "    <tr>\n",
       "      <th>2023-06-23</th>\n",
       "      <td>-0.013265</td>\n",
       "      <td>-0.001711</td>\n",
       "      <td>-0.013806</td>\n",
       "      <td>-0.013082</td>\n",
       "      <td>-0.008344</td>\n",
       "    </tr>\n",
       "    <tr>\n",
       "      <th>2023-06-26</th>\n",
       "      <td>0.014757</td>\n",
       "      <td>-0.007553</td>\n",
       "      <td>-0.019163</td>\n",
       "      <td>0.004781</td>\n",
       "      <td>0.011650</td>\n",
       "    </tr>\n",
       "    <tr>\n",
       "      <th>2023-06-27</th>\n",
       "      <td>0.007614</td>\n",
       "      <td>0.015059</td>\n",
       "      <td>0.018168</td>\n",
       "      <td>0.003460</td>\n",
       "      <td>0.013436</td>\n",
       "    </tr>\n",
       "    <tr>\n",
       "      <th>2023-06-28</th>\n",
       "      <td>-0.004383</td>\n",
       "      <td>0.006328</td>\n",
       "      <td>0.003826</td>\n",
       "      <td>-0.003664</td>\n",
       "      <td>-0.003788</td>\n",
       "    </tr>\n",
       "    <tr>\n",
       "      <th>2023-06-29</th>\n",
       "      <td>0.017456</td>\n",
       "      <td>0.001797</td>\n",
       "      <td>-0.002382</td>\n",
       "      <td>0.001298</td>\n",
       "      <td>0.012674</td>\n",
       "    </tr>\n",
       "  </tbody>\n",
       "</table>\n",
       "</div>"
      ],
      "text/plain": [
       "Symbols          IBM      AAPL      MSFT         C         T\n",
       "Date                                                        \n",
       "2023-06-13  0.008650 -0.002612  0.007353  0.004954 -0.006905\n",
       "2023-06-14 -0.002907  0.003491  0.009124 -0.009242  0.001264\n",
       "2023-06-15  0.008746  0.011199  0.031897  0.006633  0.011995\n",
       "2023-06-16 -0.006647 -0.005860 -0.016576 -0.007619  0.001871\n",
       "2023-06-20 -0.011056  0.000487 -0.012503 -0.012036 -0.017435\n",
       "2023-06-21 -0.016696 -0.005675 -0.013282 -0.004201 -0.010773\n",
       "2023-06-22 -0.018850  0.016525  0.018437 -0.016452 -0.001922\n",
       "2023-06-23 -0.013265 -0.001711 -0.013806 -0.013082 -0.008344\n",
       "2023-06-26  0.014757 -0.007553 -0.019163  0.004781  0.011650\n",
       "2023-06-27  0.007614  0.015059  0.018168  0.003460  0.013436\n",
       "2023-06-28 -0.004383  0.006328  0.003826 -0.003664 -0.003788\n",
       "2023-06-29  0.017456  0.001797 -0.002382  0.001298  0.012674"
      ]
     },
     "execution_count": 36,
     "metadata": {},
     "output_type": "execute_result"
    }
   ],
   "source": [
    "ret"
   ]
  },
  {
   "cell_type": "code",
   "execution_count": 37,
   "metadata": {},
   "outputs": [
    {
     "data": {
      "text/plain": [
       "DatetimeIndex(['2023-06-13', '2023-06-14', '2023-06-15', '2023-06-16',\n",
       "               '2023-06-20', '2023-06-21', '2023-06-22', '2023-06-23',\n",
       "               '2023-06-26', '2023-06-27', '2023-06-28', '2023-06-29'],\n",
       "              dtype='datetime64[ns]', name='Date', freq=None)"
      ]
     },
     "execution_count": 37,
     "metadata": {},
     "output_type": "execute_result"
    }
   ],
   "source": [
    "ret.index"
   ]
  },
  {
   "cell_type": "code",
   "execution_count": 39,
   "metadata": {},
   "outputs": [
    {
     "data": {
      "text/plain": [
       "['I', 'A', 'M', 'C', 'T']"
      ]
     },
     "execution_count": 39,
     "metadata": {},
     "output_type": "execute_result"
    }
   ],
   "source": [
    "[i[0] for i in ret.columns]"
   ]
  },
  {
   "cell_type": "code",
   "execution_count": 8,
   "metadata": {},
   "outputs": [],
   "source": [
    "for j in range(4, 4):\n",
    "    print(j)"
   ]
  },
  {
   "cell_type": "code",
   "execution_count": 5,
   "metadata": {},
   "outputs": [
    {
     "data": {
      "text/plain": [
       "98"
      ]
     },
     "execution_count": 5,
     "metadata": {},
     "output_type": "execute_result"
    }
   ],
   "source": [
    "int(98.68239)"
   ]
  },
  {
   "cell_type": "code",
   "execution_count": 6,
   "metadata": {},
   "outputs": [
    {
     "data": {
      "text/plain": [
       "98"
      ]
     },
     "execution_count": 6,
     "metadata": {},
     "output_type": "execute_result"
    }
   ],
   "source": [
    "int(98.99)"
   ]
  },
  {
   "cell_type": "code",
   "execution_count": null,
   "metadata": {},
   "outputs": [],
   "source": []
  },
  {
   "cell_type": "code",
   "execution_count": null,
   "metadata": {},
   "outputs": [],
   "source": []
  },
  {
   "cell_type": "code",
   "execution_count": null,
   "metadata": {},
   "outputs": [],
   "source": []
  },
  {
   "cell_type": "code",
   "execution_count": null,
   "metadata": {},
   "outputs": [],
   "source": []
  },
  {
   "cell_type": "code",
   "execution_count": null,
   "metadata": {},
   "outputs": [],
   "source": []
  },
  {
   "cell_type": "code",
   "execution_count": null,
   "metadata": {},
   "outputs": [],
   "source": []
  },
  {
   "cell_type": "markdown",
   "metadata": {},
   "source": [
    "## 3.1 日次ボラティリティ推定"
   ]
  },
  {
   "cell_type": "code",
   "execution_count": 8,
   "metadata": {},
   "outputs": [],
   "source": [
    "close=prc"
   ]
  },
  {
   "cell_type": "code",
   "execution_count": 9,
   "metadata": {},
   "outputs": [
    {
     "data": {
      "text/plain": [
       "Date\n",
       "2023-04-26         NaN\n",
       "2023-04-27    0.003529\n",
       "2023-04-28    0.002663\n",
       "2023-05-01    0.004616\n",
       "2023-05-02    0.007250\n",
       "2023-05-03    0.011076\n",
       "2023-05-04    0.012151\n",
       "2023-05-05    0.011511\n",
       "2023-05-08    0.010755\n",
       "2023-05-09    0.011319\n",
       "2023-05-10    0.010800\n",
       "2023-05-11    0.010332\n",
       "2023-05-12    0.010547\n",
       "Name: IBM, dtype: float64"
      ]
     },
     "execution_count": 9,
     "metadata": {},
     "output_type": "execute_result"
    }
   ],
   "source": [
    "# 2営業日前の日付を取得\n",
    "df0 = close.index.searchsorted(close.index - pd.Timedelta(days=1))\n",
    "df0 = df0[df0>0]\n",
    "df0 = pd.Series(close.index[df0-1], index=close.index[close.shape[0]-df0.shape[0]:])\n",
    "\n",
    "# 2営業日前からのリターン系列\n",
    "df0 = close.loc[df0.index] / close.loc[df0.values].values-1\n",
    "\n",
    "# 指数平滑加重標準偏差\n",
    "df0.ewm(span=100).std()"
   ]
  },
  {
   "cell_type": "code",
   "execution_count": 10,
   "metadata": {},
   "outputs": [
    {
     "data": {
      "text/plain": [
       "Date\n",
       "2023-04-26    0.003589\n",
       "2023-04-27    0.008579\n",
       "2023-04-28    0.004450\n",
       "2023-05-01   -0.002531\n",
       "2023-05-02   -0.009888\n",
       "2023-05-03   -0.020937\n",
       "2023-05-04   -0.020694\n",
       "2023-05-05    0.001620\n",
       "2023-05-08   -0.002022\n",
       "2023-05-09   -0.020057\n",
       "2023-05-10   -0.011183\n",
       "2023-05-11   -0.002228\n",
       "2023-05-12    0.006720\n",
       "Name: IBM, dtype: float64"
      ]
     },
     "execution_count": 10,
     "metadata": {},
     "output_type": "execute_result"
    }
   ],
   "source": [
    "df0"
   ]
  },
  {
   "cell_type": "code",
   "execution_count": null,
   "metadata": {},
   "outputs": [],
   "source": []
  },
  {
   "cell_type": "code",
   "execution_count": null,
   "metadata": {},
   "outputs": [],
   "source": []
  },
  {
   "cell_type": "code",
   "execution_count": null,
   "metadata": {},
   "outputs": [],
   "source": []
  },
  {
   "cell_type": "code",
   "execution_count": null,
   "metadata": {},
   "outputs": [],
   "source": []
  },
  {
   "cell_type": "markdown",
   "metadata": {},
   "source": [
    "## 2.1 リスク分布RのPCAウェイト  \n",
    "各主成分のリスク寄与が指定した配分となるような資産ウェイトを算出"
   ]
  },
  {
   "cell_type": "code",
   "execution_count": 36,
   "metadata": {},
   "outputs": [],
   "source": [
    "# パラメータ設定（共分散行列、リスク水準）\n",
    "cov = cvm\n",
    "riskTarget = 1"
   ]
  },
  {
   "cell_type": "code",
   "execution_count": 22,
   "metadata": {},
   "outputs": [],
   "source": [
    "# 固有値、固有ベクトル（入力はエルミート行列である必要がある⇒下三角行列で固有値を算出するため）\n",
    "eVal, eVec = np.linalg.eigh(cov)"
   ]
  },
  {
   "cell_type": "code",
   "execution_count": 23,
   "metadata": {},
   "outputs": [],
   "source": [
    "# 降順ソートのインデックス順列\n",
    "indices = eVal.argsort()[::-1]"
   ]
  },
  {
   "cell_type": "code",
   "execution_count": 24,
   "metadata": {},
   "outputs": [],
   "source": [
    "# 固有値降順で並び替え\n",
    "eVal, eVec = eVal[indices], eVec[:, indices]"
   ]
  },
  {
   "cell_type": "code",
   "execution_count": 29,
   "metadata": {},
   "outputs": [],
   "source": [
    "# デフォルトのリスク分布を設定（固有値最低の主成分に全て配分）\n",
    "riskDist = np.zeros(cov.shape[0])\n",
    "riskDist[-1] = 1"
   ]
  },
  {
   "cell_type": "code",
   "execution_count": 37,
   "metadata": {},
   "outputs": [],
   "source": [
    "# 設定したリスク分布となる資産ウェイトの算出\n",
    "loads = riskTarget*riskDist/eVal**.5\n",
    "wghts = np.dot(eVec, np.reshape(loads, (-1, 1)))"
   ]
  },
  {
   "cell_type": "code",
   "execution_count": null,
   "metadata": {},
   "outputs": [],
   "source": []
  },
  {
   "cell_type": "code",
   "execution_count": null,
   "metadata": {},
   "outputs": [],
   "source": []
  },
  {
   "cell_type": "code",
   "execution_count": 9,
   "metadata": {},
   "outputs": [],
   "source": [
    "prc = pd_data[\"Close\"][\"IBM\"].sort_index(ascending=True)"
   ]
  },
  {
   "cell_type": "code",
   "execution_count": 12,
   "metadata": {},
   "outputs": [],
   "source": [
    "diff = prc.diff()"
   ]
  },
  {
   "cell_type": "code",
   "execution_count": null,
   "metadata": {},
   "outputs": [],
   "source": []
  },
  {
   "cell_type": "code",
   "execution_count": null,
   "metadata": {},
   "outputs": [],
   "source": []
  },
  {
   "cell_type": "code",
   "execution_count": 2,
   "metadata": {},
   "outputs": [
    {
     "data": {
      "text/plain": [
       "0.5"
      ]
     },
     "execution_count": 2,
     "metadata": {},
     "output_type": "execute_result"
    }
   ],
   "source": [
    "4**-0.5"
   ]
  },
  {
   "cell_type": "code",
   "execution_count": null,
   "metadata": {},
   "outputs": [],
   "source": []
  }
 ],
 "metadata": {
  "kernelspec": {
   "display_name": "Python 3",
   "language": "python",
   "name": "python3"
  },
  "language_info": {
   "codemirror_mode": {
    "name": "ipython",
    "version": 3
   },
   "file_extension": ".py",
   "mimetype": "text/x-python",
   "name": "python",
   "nbconvert_exporter": "python",
   "pygments_lexer": "ipython3",
   "version": "3.7.6"
  }
 },
 "nbformat": 4,
 "nbformat_minor": 4
}
