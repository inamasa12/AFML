{
 "cells": [
  {
   "cell_type": "markdown",
   "metadata": {},
   "source": [
    "# パッケージ"
   ]
  },
  {
   "cell_type": "code",
   "execution_count": 1,
   "metadata": {},
   "outputs": [],
   "source": [
    "import numpy as np\n",
    "import pandas as pd"
   ]
  },
  {
   "cell_type": "code",
   "execution_count": null,
   "metadata": {},
   "outputs": [],
   "source": []
  },
  {
   "cell_type": "markdown",
   "metadata": {},
   "source": [
    "# 事前準備  \n",
    "時系列株価データの取得"
   ]
  },
  {
   "cell_type": "code",
   "execution_count": 4,
   "metadata": {},
   "outputs": [],
   "source": [
    "from datetime import date, timedelta\n",
    "from pandas_datareader import data as pdr"
   ]
  },
  {
   "cell_type": "code",
   "execution_count": 5,
   "metadata": {},
   "outputs": [],
   "source": [
    "# 期間設定\n",
    "today = date.today()\n",
    "startday = today - timedelta(days=20)\n",
    "# 銘柄設定\n",
    "ticker_list = [\"IBM\", \"AAPL\", \"MSFT\", \"C\", \"T\"]"
   ]
  },
  {
   "cell_type": "code",
   "execution_count": 6,
   "metadata": {},
   "outputs": [],
   "source": [
    "# 取得\n",
    "pd_data = pdr.DataReader(ticker_list, \"stooq\", startday)"
   ]
  },
  {
   "cell_type": "code",
   "execution_count": 7,
   "metadata": {},
   "outputs": [],
   "source": [
    "# リターン\n",
    "ret = pd_data['Close'].sort_index(ascending=True)\n",
    "ret=ret.pct_change().drop(ret.index[0])"
   ]
  },
  {
   "cell_type": "code",
   "execution_count": 8,
   "metadata": {},
   "outputs": [],
   "source": [
    "# 共分散行列\n",
    "cvm = ret.cov()"
   ]
  },
  {
   "cell_type": "code",
   "execution_count": 9,
   "metadata": {},
   "outputs": [],
   "source": [
    "# 株価\n",
    "prc = pd_data['Close']['IBM'].sort_index(ascending=True)"
   ]
  },
  {
   "cell_type": "code",
   "execution_count": null,
   "metadata": {},
   "outputs": [],
   "source": []
  },
  {
   "cell_type": "code",
   "execution_count": 23,
   "metadata": {},
   "outputs": [
    {
     "data": {
      "text/plain": [
       "['IBM']"
      ]
     },
     "execution_count": 23,
     "metadata": {},
     "output_type": "execute_result"
    }
   ],
   "source": [
    "phi + [prcs.columns[0]]"
   ]
  },
  {
   "cell_type": "code",
   "execution_count": 15,
   "metadata": {},
   "outputs": [],
   "source": [
    "prcs=pd_data['Close']"
   ]
  },
  {
   "cell_type": "code",
   "execution_count": 16,
   "metadata": {},
   "outputs": [
    {
     "name": "stdout",
     "output_type": "stream",
     "text": [
      "IBM\n",
      "AAPL\n",
      "MSFT\n",
      "C\n",
      "T\n"
     ]
    }
   ],
   "source": [
    "for i in prcs:\n",
    "    print(i)"
   ]
  },
  {
   "cell_type": "code",
   "execution_count": 17,
   "metadata": {},
   "outputs": [
    {
     "data": {
      "text/html": [
       "<div>\n",
       "<style scoped>\n",
       "    .dataframe tbody tr th:only-of-type {\n",
       "        vertical-align: middle;\n",
       "    }\n",
       "\n",
       "    .dataframe tbody tr th {\n",
       "        vertical-align: top;\n",
       "    }\n",
       "\n",
       "    .dataframe thead th {\n",
       "        text-align: right;\n",
       "    }\n",
       "</style>\n",
       "<table border=\"1\" class=\"dataframe\">\n",
       "  <thead>\n",
       "    <tr style=\"text-align: right;\">\n",
       "      <th>Symbols</th>\n",
       "      <th>IBM</th>\n",
       "      <th>AAPL</th>\n",
       "      <th>MSFT</th>\n",
       "      <th>C</th>\n",
       "      <th>T</th>\n",
       "    </tr>\n",
       "    <tr>\n",
       "      <th>Date</th>\n",
       "      <th></th>\n",
       "      <th></th>\n",
       "      <th></th>\n",
       "      <th></th>\n",
       "      <th></th>\n",
       "    </tr>\n",
       "  </thead>\n",
       "  <tbody>\n",
       "    <tr>\n",
       "      <th>2023-05-26</th>\n",
       "      <td>128.89</td>\n",
       "      <td>175.430</td>\n",
       "      <td>332.89</td>\n",
       "      <td>44.60</td>\n",
       "      <td>15.50</td>\n",
       "    </tr>\n",
       "    <tr>\n",
       "      <th>2023-05-25</th>\n",
       "      <td>126.76</td>\n",
       "      <td>172.990</td>\n",
       "      <td>325.92</td>\n",
       "      <td>44.23</td>\n",
       "      <td>15.15</td>\n",
       "    </tr>\n",
       "    <tr>\n",
       "      <th>2023-05-24</th>\n",
       "      <td>125.68</td>\n",
       "      <td>171.840</td>\n",
       "      <td>313.85</td>\n",
       "      <td>44.49</td>\n",
       "      <td>15.95</td>\n",
       "    </tr>\n",
       "    <tr>\n",
       "      <th>2023-05-23</th>\n",
       "      <td>128.18</td>\n",
       "      <td>171.560</td>\n",
       "      <td>315.26</td>\n",
       "      <td>45.91</td>\n",
       "      <td>16.10</td>\n",
       "    </tr>\n",
       "    <tr>\n",
       "      <th>2023-05-22</th>\n",
       "      <td>127.50</td>\n",
       "      <td>174.200</td>\n",
       "      <td>321.18</td>\n",
       "      <td>45.79</td>\n",
       "      <td>16.38</td>\n",
       "    </tr>\n",
       "    <tr>\n",
       "      <th>2023-05-19</th>\n",
       "      <td>127.26</td>\n",
       "      <td>175.160</td>\n",
       "      <td>318.34</td>\n",
       "      <td>45.71</td>\n",
       "      <td>16.31</td>\n",
       "    </tr>\n",
       "    <tr>\n",
       "      <th>2023-05-18</th>\n",
       "      <td>126.15</td>\n",
       "      <td>175.050</td>\n",
       "      <td>318.52</td>\n",
       "      <td>46.39</td>\n",
       "      <td>16.55</td>\n",
       "    </tr>\n",
       "    <tr>\n",
       "      <th>2023-05-17</th>\n",
       "      <td>125.71</td>\n",
       "      <td>172.690</td>\n",
       "      <td>314.00</td>\n",
       "      <td>47.08</td>\n",
       "      <td>16.66</td>\n",
       "    </tr>\n",
       "    <tr>\n",
       "      <th>2023-05-16</th>\n",
       "      <td>123.46</td>\n",
       "      <td>172.070</td>\n",
       "      <td>311.74</td>\n",
       "      <td>45.28</td>\n",
       "      <td>16.53</td>\n",
       "    </tr>\n",
       "    <tr>\n",
       "      <th>2023-05-15</th>\n",
       "      <td>123.36</td>\n",
       "      <td>172.070</td>\n",
       "      <td>309.46</td>\n",
       "      <td>46.05</td>\n",
       "      <td>16.95</td>\n",
       "    </tr>\n",
       "    <tr>\n",
       "      <th>2023-05-12</th>\n",
       "      <td>122.84</td>\n",
       "      <td>172.570</td>\n",
       "      <td>308.97</td>\n",
       "      <td>45.45</td>\n",
       "      <td>17.03</td>\n",
       "    </tr>\n",
       "    <tr>\n",
       "      <th>2023-05-11</th>\n",
       "      <td>120.90</td>\n",
       "      <td>173.750</td>\n",
       "      <td>310.11</td>\n",
       "      <td>46.03</td>\n",
       "      <td>16.96</td>\n",
       "    </tr>\n",
       "    <tr>\n",
       "      <th>2023-05-10</th>\n",
       "      <td>122.02</td>\n",
       "      <td>173.555</td>\n",
       "      <td>312.31</td>\n",
       "      <td>46.37</td>\n",
       "      <td>17.04</td>\n",
       "    </tr>\n",
       "    <tr>\n",
       "      <th>2023-05-09</th>\n",
       "      <td>121.17</td>\n",
       "      <td>171.770</td>\n",
       "      <td>307.00</td>\n",
       "      <td>46.52</td>\n",
       "      <td>17.02</td>\n",
       "    </tr>\n",
       "    <tr>\n",
       "      <th>2023-05-08</th>\n",
       "      <td>123.40</td>\n",
       "      <td>173.500</td>\n",
       "      <td>308.65</td>\n",
       "      <td>46.36</td>\n",
       "      <td>17.12</td>\n",
       "    </tr>\n",
       "  </tbody>\n",
       "</table>\n",
       "</div>"
      ],
      "text/plain": [
       "Symbols        IBM     AAPL    MSFT      C      T\n",
       "Date                                             \n",
       "2023-05-26  128.89  175.430  332.89  44.60  15.50\n",
       "2023-05-25  126.76  172.990  325.92  44.23  15.15\n",
       "2023-05-24  125.68  171.840  313.85  44.49  15.95\n",
       "2023-05-23  128.18  171.560  315.26  45.91  16.10\n",
       "2023-05-22  127.50  174.200  321.18  45.79  16.38\n",
       "2023-05-19  127.26  175.160  318.34  45.71  16.31\n",
       "2023-05-18  126.15  175.050  318.52  46.39  16.55\n",
       "2023-05-17  125.71  172.690  314.00  47.08  16.66\n",
       "2023-05-16  123.46  172.070  311.74  45.28  16.53\n",
       "2023-05-15  123.36  172.070  309.46  46.05  16.95\n",
       "2023-05-12  122.84  172.570  308.97  45.45  17.03\n",
       "2023-05-11  120.90  173.750  310.11  46.03  16.96\n",
       "2023-05-10  122.02  173.555  312.31  46.37  17.04\n",
       "2023-05-09  121.17  171.770  307.00  46.52  17.02\n",
       "2023-05-08  123.40  173.500  308.65  46.36  17.12"
      ]
     },
     "execution_count": 17,
     "metadata": {},
     "output_type": "execute_result"
    }
   ],
   "source": [
    "prcs"
   ]
  },
  {
   "cell_type": "code",
   "execution_count": 2,
   "metadata": {},
   "outputs": [],
   "source": [
    "phi = []"
   ]
  },
  {
   "cell_type": "code",
   "execution_count": 10,
   "metadata": {},
   "outputs": [],
   "source": [
    "a = list(range(1,5))"
   ]
  },
  {
   "cell_type": "code",
   "execution_count": 11,
   "metadata": {},
   "outputs": [
    {
     "data": {
      "text/plain": [
       "pandas.core.series.Series"
      ]
     },
     "execution_count": 11,
     "metadata": {},
     "output_type": "execute_result"
    }
   ],
   "source": [
    "type(prc)"
   ]
  },
  {
   "cell_type": "code",
   "execution_count": 3,
   "metadata": {},
   "outputs": [
    {
     "data": {
      "text/plain": [
       "[]"
      ]
     },
     "execution_count": 3,
     "metadata": {},
     "output_type": "execute_result"
    }
   ],
   "source": [
    "phi"
   ]
  },
  {
   "cell_type": "code",
   "execution_count": 12,
   "metadata": {},
   "outputs": [
    {
     "data": {
      "text/plain": [
       "[Date\n",
       " 2023-05-08    123.40\n",
       " 2023-05-09    121.17\n",
       " 2023-05-10    122.02\n",
       " 2023-05-11    120.90\n",
       " 2023-05-12    122.84\n",
       " 2023-05-15    123.36\n",
       " 2023-05-16    123.46\n",
       " 2023-05-17    125.71\n",
       " 2023-05-18    126.15\n",
       " 2023-05-19    127.26\n",
       " 2023-05-22    127.50\n",
       " 2023-05-23    128.18\n",
       " 2023-05-24    125.68\n",
       " 2023-05-25    126.76\n",
       " 2023-05-26    128.89\n",
       " Name: IBM, dtype: float64]"
      ]
     },
     "execution_count": 12,
     "metadata": {},
     "output_type": "execute_result"
    }
   ],
   "source": [
    "[prc]"
   ]
  },
  {
   "cell_type": "code",
   "execution_count": null,
   "metadata": {},
   "outputs": [],
   "source": []
  },
  {
   "cell_type": "markdown",
   "metadata": {},
   "source": [
    "## 3.1 日次ボラティリティ推定"
   ]
  },
  {
   "cell_type": "code",
   "execution_count": 8,
   "metadata": {},
   "outputs": [],
   "source": [
    "close=prc"
   ]
  },
  {
   "cell_type": "code",
   "execution_count": 9,
   "metadata": {},
   "outputs": [
    {
     "data": {
      "text/plain": [
       "Date\n",
       "2023-04-26         NaN\n",
       "2023-04-27    0.003529\n",
       "2023-04-28    0.002663\n",
       "2023-05-01    0.004616\n",
       "2023-05-02    0.007250\n",
       "2023-05-03    0.011076\n",
       "2023-05-04    0.012151\n",
       "2023-05-05    0.011511\n",
       "2023-05-08    0.010755\n",
       "2023-05-09    0.011319\n",
       "2023-05-10    0.010800\n",
       "2023-05-11    0.010332\n",
       "2023-05-12    0.010547\n",
       "Name: IBM, dtype: float64"
      ]
     },
     "execution_count": 9,
     "metadata": {},
     "output_type": "execute_result"
    }
   ],
   "source": [
    "# 2営業日前の日付を取得\n",
    "df0 = close.index.searchsorted(close.index - pd.Timedelta(days=1))\n",
    "df0 = df0[df0>0]\n",
    "df0 = pd.Series(close.index[df0-1], index=close.index[close.shape[0]-df0.shape[0]:])\n",
    "\n",
    "# 2営業日前からのリターン系列\n",
    "df0 = close.loc[df0.index] / close.loc[df0.values].values-1\n",
    "\n",
    "# 指数平滑加重標準偏差\n",
    "df0.ewm(span=100).std()"
   ]
  },
  {
   "cell_type": "code",
   "execution_count": 10,
   "metadata": {},
   "outputs": [
    {
     "data": {
      "text/plain": [
       "Date\n",
       "2023-04-26    0.003589\n",
       "2023-04-27    0.008579\n",
       "2023-04-28    0.004450\n",
       "2023-05-01   -0.002531\n",
       "2023-05-02   -0.009888\n",
       "2023-05-03   -0.020937\n",
       "2023-05-04   -0.020694\n",
       "2023-05-05    0.001620\n",
       "2023-05-08   -0.002022\n",
       "2023-05-09   -0.020057\n",
       "2023-05-10   -0.011183\n",
       "2023-05-11   -0.002228\n",
       "2023-05-12    0.006720\n",
       "Name: IBM, dtype: float64"
      ]
     },
     "execution_count": 10,
     "metadata": {},
     "output_type": "execute_result"
    }
   ],
   "source": [
    "df0"
   ]
  },
  {
   "cell_type": "code",
   "execution_count": null,
   "metadata": {},
   "outputs": [],
   "source": []
  },
  {
   "cell_type": "code",
   "execution_count": null,
   "metadata": {},
   "outputs": [],
   "source": []
  },
  {
   "cell_type": "code",
   "execution_count": null,
   "metadata": {},
   "outputs": [],
   "source": []
  },
  {
   "cell_type": "code",
   "execution_count": null,
   "metadata": {},
   "outputs": [],
   "source": []
  },
  {
   "cell_type": "markdown",
   "metadata": {},
   "source": [
    "## 2.1 リスク分布RのPCAウェイト  \n",
    "各主成分のリスク寄与が指定した配分となるような資産ウェイトを算出"
   ]
  },
  {
   "cell_type": "code",
   "execution_count": 36,
   "metadata": {},
   "outputs": [],
   "source": [
    "# パラメータ設定（共分散行列、リスク水準）\n",
    "cov = cvm\n",
    "riskTarget = 1"
   ]
  },
  {
   "cell_type": "code",
   "execution_count": 22,
   "metadata": {},
   "outputs": [],
   "source": [
    "# 固有値、固有ベクトル（入力はエルミート行列である必要がある⇒下三角行列で固有値を算出するため）\n",
    "eVal, eVec = np.linalg.eigh(cov)"
   ]
  },
  {
   "cell_type": "code",
   "execution_count": 23,
   "metadata": {},
   "outputs": [],
   "source": [
    "# 降順ソートのインデックス順列\n",
    "indices = eVal.argsort()[::-1]"
   ]
  },
  {
   "cell_type": "code",
   "execution_count": 24,
   "metadata": {},
   "outputs": [],
   "source": [
    "# 固有値降順で並び替え\n",
    "eVal, eVec = eVal[indices], eVec[:, indices]"
   ]
  },
  {
   "cell_type": "code",
   "execution_count": 29,
   "metadata": {},
   "outputs": [],
   "source": [
    "# デフォルトのリスク分布を設定（固有値最低の主成分に全て配分）\n",
    "riskDist = np.zeros(cov.shape[0])\n",
    "riskDist[-1] = 1"
   ]
  },
  {
   "cell_type": "code",
   "execution_count": 37,
   "metadata": {},
   "outputs": [],
   "source": [
    "# 設定したリスク分布となる資産ウェイトの算出\n",
    "loads = riskTarget*riskDist/eVal**.5\n",
    "wghts = np.dot(eVec, np.reshape(loads, (-1, 1)))"
   ]
  },
  {
   "cell_type": "code",
   "execution_count": null,
   "metadata": {},
   "outputs": [],
   "source": []
  },
  {
   "cell_type": "code",
   "execution_count": null,
   "metadata": {},
   "outputs": [],
   "source": []
  },
  {
   "cell_type": "code",
   "execution_count": 9,
   "metadata": {},
   "outputs": [],
   "source": [
    "prc = pd_data[\"Close\"][\"IBM\"].sort_index(ascending=True)"
   ]
  },
  {
   "cell_type": "code",
   "execution_count": 12,
   "metadata": {},
   "outputs": [],
   "source": [
    "diff = prc.diff()"
   ]
  },
  {
   "cell_type": "code",
   "execution_count": null,
   "metadata": {},
   "outputs": [],
   "source": []
  },
  {
   "cell_type": "code",
   "execution_count": null,
   "metadata": {},
   "outputs": [],
   "source": []
  },
  {
   "cell_type": "code",
   "execution_count": null,
   "metadata": {},
   "outputs": [],
   "source": []
  },
  {
   "cell_type": "code",
   "execution_count": null,
   "metadata": {},
   "outputs": [],
   "source": []
  }
 ],
 "metadata": {
  "kernelspec": {
   "display_name": "Python 3",
   "language": "python",
   "name": "python3"
  },
  "language_info": {
   "codemirror_mode": {
    "name": "ipython",
    "version": 3
   },
   "file_extension": ".py",
   "mimetype": "text/x-python",
   "name": "python",
   "nbconvert_exporter": "python",
   "pygments_lexer": "ipython3",
   "version": "3.7.6"
  }
 },
 "nbformat": 4,
 "nbformat_minor": 4
}
